{
 "cells": [
  {
   "cell_type": "code",
   "execution_count": null,
   "id": "251c4d22-9f5a-46a0-bcb8-b1dc01de50c2",
   "metadata": {},
   "outputs": [],
   "source": [
    "# Iteration"
   ]
  },
  {
   "cell_type": "code",
   "execution_count": null,
   "id": "928cb1bd-3a42-44ba-89e8-c0b9a4e9a18e",
   "metadata": {},
   "outputs": [],
   "source": [
    "# For Loop\n",
    "for num in range(1, 6):\n",
    "    print(num)"
   ]
  },
  {
   "cell_type": "code",
   "execution_count": null,
   "id": "0e4d1839-f3f8-46c2-8096-f13a1690daf7",
   "metadata": {},
   "outputs": [],
   "source": [
    "colors = ['blue', 'green', 'pink', 'yellow', 'gray', 'orange', 'red']"
   ]
  },
  {
   "cell_type": "code",
   "execution_count": null,
   "id": "d12bde8a-de28-4775-bd5c-7c55cc0db40f",
   "metadata": {},
   "outputs": [],
   "source": [
    "for color in colors:\n",
    "    print(color)"
   ]
  },
  {
   "cell_type": "code",
   "execution_count": null,
   "id": "111cb9d2-2ddb-462a-a036-9238646dfa4d",
   "metadata": {},
   "outputs": [],
   "source": [
    "# While Loop\n",
    "\n",
    "number = 5\n",
    "\n",
    "while number > 0:\n",
    "    print(number)\n",
    "    number -= 1\n",
    "\n",
    "print(\"Lift off!\")"
   ]
  },
  {
   "cell_type": "code",
   "execution_count": null,
   "id": "5bf3c8bd-32df-4a74-b5be-9b0be2efb7f4",
   "metadata": {},
   "outputs": [],
   "source": [
    "# Conditionals"
   ]
  },
  {
   "cell_type": "code",
   "execution_count": 1,
   "id": "f32589ae-b16b-4f16-9336-d105c0bc02ee",
   "metadata": {},
   "outputs": [],
   "source": [
    "def even_or_odd(num):\n",
    "    if num % 2 == 0:\n",
    "        return f\"{num} is even\"\n",
    "    else:\n",
    "        return f\"{num} is odd\""
   ]
  },
  {
   "cell_type": "code",
   "execution_count": 2,
   "id": "a7cfc3da-5081-4d59-8abc-dec802d3b8b5",
   "metadata": {},
   "outputs": [
    {
     "data": {
      "text/plain": [
       "'2 is even'"
      ]
     },
     "execution_count": 2,
     "metadata": {},
     "output_type": "execute_result"
    }
   ],
   "source": [
    "even_or_odd(2)"
   ]
  },
  {
   "cell_type": "code",
   "execution_count": 3,
   "id": "a8e266a2-8cd3-446e-a8d4-0a476541868b",
   "metadata": {},
   "outputs": [
    {
     "data": {
      "text/plain": [
       "'15 is odd'"
      ]
     },
     "execution_count": 3,
     "metadata": {},
     "output_type": "execute_result"
    }
   ],
   "source": [
    "even_or_odd(15)"
   ]
  },
  {
   "cell_type": "code",
   "execution_count": 3,
   "id": "4537ecf3-095b-4f55-a2bd-2ba283620efa",
   "metadata": {},
   "outputs": [
    {
     "data": {
      "text/plain": [
       "True"
      ]
     },
     "execution_count": 3,
     "metadata": {},
     "output_type": "execute_result"
    }
   ],
   "source": [
    "a = 3\n",
    "b = 3\n",
    "a == b"
   ]
  },
  {
   "cell_type": "code",
   "execution_count": 5,
   "id": "8a40e181-8c1f-48ab-b376-572652e59f6e",
   "metadata": {},
   "outputs": [],
   "source": [
    "list1 = [1, 2, 3, 4, 5]"
   ]
  },
  {
   "cell_type": "code",
   "execution_count": 6,
   "id": "6b4cba86-ff3b-41db-8adb-0b85443dea83",
   "metadata": {},
   "outputs": [],
   "source": [
    "list2 = list1"
   ]
  },
  {
   "cell_type": "code",
   "execution_count": 7,
   "id": "d4528ff9-0693-40b6-b307-80ffb16cc263",
   "metadata": {},
   "outputs": [],
   "source": [
    "list3 = list1[:]"
   ]
  },
  {
   "cell_type": "code",
   "execution_count": 8,
   "id": "0577f100-763c-484d-abdf-d5ac29cc3413",
   "metadata": {},
   "outputs": [
    {
     "data": {
      "text/plain": [
       "True"
      ]
     },
     "execution_count": 8,
     "metadata": {},
     "output_type": "execute_result"
    }
   ],
   "source": [
    "list1 is list2"
   ]
  },
  {
   "cell_type": "code",
   "execution_count": 11,
   "id": "c7a3a029-d35a-4f54-aae0-6bc9fc265ec2",
   "metadata": {},
   "outputs": [
    {
     "data": {
      "text/plain": [
       "False"
      ]
     },
     "execution_count": 11,
     "metadata": {},
     "output_type": "execute_result"
    }
   ],
   "source": [
    "list1 is list3"
   ]
  },
  {
   "cell_type": "code",
   "execution_count": 5,
   "id": "d633a884-6aef-44e5-a4cf-b607b38fa419",
   "metadata": {},
   "outputs": [],
   "source": [
    "def say_hello(name):\n",
    "    return f\"Hello {name}\""
   ]
  },
  {
   "cell_type": "code",
   "execution_count": 6,
   "id": "427785c1-a321-4813-ae51-0fd098c04bb5",
   "metadata": {},
   "outputs": [
    {
     "data": {
      "text/plain": [
       "'Hello Danielle'"
      ]
     },
     "execution_count": 6,
     "metadata": {},
     "output_type": "execute_result"
    }
   ],
   "source": [
    "say_hello('Danielle')"
   ]
  },
  {
   "cell_type": "code",
   "execution_count": 12,
   "id": "933fa80f-9259-4470-9800-63efb6eb00ae",
   "metadata": {},
   "outputs": [],
   "source": [
    "def fizzbuzz(num):\n",
    "    if num % 15 == 0:\n",
    "        return \"FizzBuzz\"\n",
    "    elif num % 5 == 0:\n",
    "        return \"Buzz\"\n",
    "    elif num % 3 == 0:\n",
    "        return \"Fizz\"\n",
    "    else:\n",
    "        return \"No fizz\"\n",
    "        "
   ]
  },
  {
   "cell_type": "code",
   "execution_count": 9,
   "id": "5a2d16d4-eb81-41bd-a0e1-bb56f511790b",
   "metadata": {},
   "outputs": [
    {
     "data": {
      "text/plain": [
       "'No fizz'"
      ]
     },
     "execution_count": 9,
     "metadata": {},
     "output_type": "execute_result"
    }
   ],
   "source": [
    "fizzbuzz(2)"
   ]
  },
  {
   "cell_type": "code",
   "execution_count": 10,
   "id": "52f1519a-8175-4321-b95e-bca645a6cd65",
   "metadata": {},
   "outputs": [
    {
     "data": {
      "text/plain": [
       "'Fizz'"
      ]
     },
     "execution_count": 10,
     "metadata": {},
     "output_type": "execute_result"
    }
   ],
   "source": [
    "fizzbuzz(9)"
   ]
  },
  {
   "cell_type": "code",
   "execution_count": 13,
   "id": "49a8cdc6-5f28-4ac9-8ff3-d3478c57f282",
   "metadata": {},
   "outputs": [
    {
     "data": {
      "text/plain": [
       "'FizzBuzz'"
      ]
     },
     "execution_count": 13,
     "metadata": {},
     "output_type": "execute_result"
    }
   ],
   "source": [
    "fizzbuzz(15)"
   ]
  },
  {
   "cell_type": "code",
   "execution_count": 14,
   "id": "88a2b744-e2cd-4eff-86cc-28b3e367e11a",
   "metadata": {},
   "outputs": [
    {
     "data": {
      "text/plain": [
       "'FizzBuzz'"
      ]
     },
     "execution_count": 14,
     "metadata": {},
     "output_type": "execute_result"
    }
   ],
   "source": [
    "fizzbuzz(30)"
   ]
  },
  {
   "cell_type": "code",
   "execution_count": 15,
   "id": "c5c46d52-2b51-49ee-8d5e-9312f354324a",
   "metadata": {},
   "outputs": [
    {
     "data": {
      "text/plain": [
       "'Fizz'"
      ]
     },
     "execution_count": 15,
     "metadata": {},
     "output_type": "execute_result"
    }
   ],
   "source": [
    "fizzbuzz(6)"
   ]
  },
  {
   "cell_type": "code",
   "execution_count": null,
   "id": "a9e0439f-20f4-4339-b294-2c3d19b3dbde",
   "metadata": {},
   "outputs": [],
   "source": []
  }
 ],
 "metadata": {
  "kernelspec": {
   "display_name": "Python 3 (ipykernel)",
   "language": "python",
   "name": "python3"
  },
  "language_info": {
   "codemirror_mode": {
    "name": "ipython",
    "version": 3
   },
   "file_extension": ".py",
   "mimetype": "text/x-python",
   "name": "python",
   "nbconvert_exporter": "python",
   "pygments_lexer": "ipython3",
   "version": "3.10.7"
  }
 },
 "nbformat": 4,
 "nbformat_minor": 5
}

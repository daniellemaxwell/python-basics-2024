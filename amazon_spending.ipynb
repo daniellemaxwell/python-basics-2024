{
 "cells": [
  {
   "cell_type": "code",
   "execution_count": 1,
   "id": "7de87549-1cfa-4f0b-8205-da17e46bcd91",
   "metadata": {},
   "outputs": [],
   "source": [
    "import pandas as pd\n",
    "import numpy as np\n",
    "import matplotlib as plt\n",
    "import seaborn as sns"
   ]
  },
  {
   "cell_type": "code",
   "execution_count": 2,
   "id": "8ce92fad-920e-48fd-a840-ccd1f97e1e5d",
   "metadata": {},
   "outputs": [],
   "source": [
    "df = pd.read_csv('Retail.OrderHistory.1.csv')"
   ]
  },
  {
   "cell_type": "code",
   "execution_count": 3,
   "id": "548012c0-1ee0-4554-9007-961e2764c788",
   "metadata": {},
   "outputs": [
    {
     "data": {
      "text/html": [
       "<div>\n",
       "<style scoped>\n",
       "    .dataframe tbody tr th:only-of-type {\n",
       "        vertical-align: middle;\n",
       "    }\n",
       "\n",
       "    .dataframe tbody tr th {\n",
       "        vertical-align: top;\n",
       "    }\n",
       "\n",
       "    .dataframe thead th {\n",
       "        text-align: right;\n",
       "    }\n",
       "</style>\n",
       "<table border=\"1\" class=\"dataframe\">\n",
       "  <thead>\n",
       "    <tr style=\"text-align: right;\">\n",
       "      <th></th>\n",
       "      <th>Website</th>\n",
       "      <th>Order ID</th>\n",
       "      <th>Order Date</th>\n",
       "      <th>Purchase Order Number</th>\n",
       "      <th>Currency</th>\n",
       "      <th>Unit Price</th>\n",
       "      <th>Unit Price Tax</th>\n",
       "      <th>Shipping Charge</th>\n",
       "      <th>Total Discounts</th>\n",
       "      <th>Total Owed</th>\n",
       "      <th>...</th>\n",
       "      <th>Ship Date</th>\n",
       "      <th>Shipping Option</th>\n",
       "      <th>Shipping Address</th>\n",
       "      <th>Billing Address</th>\n",
       "      <th>Carrier Name &amp; Tracking Number</th>\n",
       "      <th>Product Name</th>\n",
       "      <th>Gift Message</th>\n",
       "      <th>Gift Sender Name</th>\n",
       "      <th>Gift Recipient Contact Details</th>\n",
       "      <th>Item Serial Number</th>\n",
       "    </tr>\n",
       "  </thead>\n",
       "  <tbody>\n",
       "    <tr>\n",
       "      <th>0</th>\n",
       "      <td>Amazon.com</td>\n",
       "      <td>113-5136059-8949860</td>\n",
       "      <td>2024-07-04T12:00:54Z</td>\n",
       "      <td>Not Applicable</td>\n",
       "      <td>USD</td>\n",
       "      <td>26.28</td>\n",
       "      <td>0.5</td>\n",
       "      <td>0.0</td>\n",
       "      <td>'-1.31'</td>\n",
       "      <td>25.47</td>\n",
       "      <td>...</td>\n",
       "      <td>2024-07-10T21:24:35Z</td>\n",
       "      <td>std-sns-us</td>\n",
       "      <td>Danielle Maxwell 255 CAMDEN PARK DR LAWRENCEVI...</td>\n",
       "      <td>Danielle Maxwell 255 CAMDEN PARK DR LAWRENCEVI...</td>\n",
       "      <td>USPS(9361289675033670028690)</td>\n",
       "      <td>GoMacro MacroBar Organic Vegan Protein Bars - ...</td>\n",
       "      <td>Not Available</td>\n",
       "      <td>Not Available</td>\n",
       "      <td>Not Available</td>\n",
       "      <td>Not Available</td>\n",
       "    </tr>\n",
       "    <tr>\n",
       "      <th>1</th>\n",
       "      <td>Amazon.com</td>\n",
       "      <td>111-5780723-7821826</td>\n",
       "      <td>2024-07-04T07:56:02.730Z</td>\n",
       "      <td>Not Applicable</td>\n",
       "      <td>USD</td>\n",
       "      <td>35.88</td>\n",
       "      <td>0.0</td>\n",
       "      <td>0.0</td>\n",
       "      <td>0</td>\n",
       "      <td>0</td>\n",
       "      <td>...</td>\n",
       "      <td>Not Available</td>\n",
       "      <td>std-sns-us</td>\n",
       "      <td>Danielle Maxwell 255 CAMDEN PARK DR LAWRENCEVI...</td>\n",
       "      <td>Danielle Maxwell 255 CAMDEN PARK DR LAWRENCEVI...</td>\n",
       "      <td>Not Available</td>\n",
       "      <td>GoMacro MacroBar Organic Vegan Protein Bars - ...</td>\n",
       "      <td>Not Available</td>\n",
       "      <td>Not Available</td>\n",
       "      <td>Not Available</td>\n",
       "      <td>Not Available</td>\n",
       "    </tr>\n",
       "    <tr>\n",
       "      <th>2</th>\n",
       "      <td>panda01</td>\n",
       "      <td>113-4836339-2623440</td>\n",
       "      <td>2024-06-22T19:09:46Z</td>\n",
       "      <td>Not Applicable</td>\n",
       "      <td>USD</td>\n",
       "      <td>2.24</td>\n",
       "      <td>0.0</td>\n",
       "      <td>0.0</td>\n",
       "      <td>0</td>\n",
       "      <td>2.24</td>\n",
       "      <td>...</td>\n",
       "      <td>2024-06-22T19:10:00Z</td>\n",
       "      <td>Not Available</td>\n",
       "      <td>Not Available</td>\n",
       "      <td>Not Available</td>\n",
       "      <td>Not Available</td>\n",
       "      <td>PRODUCE Organic Cripps Pink Apple</td>\n",
       "      <td>Not Available</td>\n",
       "      <td>Not Available</td>\n",
       "      <td>Not Available</td>\n",
       "      <td>Not Available</td>\n",
       "    </tr>\n",
       "    <tr>\n",
       "      <th>3</th>\n",
       "      <td>panda01</td>\n",
       "      <td>113-4836339-2623440</td>\n",
       "      <td>2024-06-22T19:09:46Z</td>\n",
       "      <td>Not Applicable</td>\n",
       "      <td>USD</td>\n",
       "      <td>6.99</td>\n",
       "      <td>0.0</td>\n",
       "      <td>0.0</td>\n",
       "      <td>0</td>\n",
       "      <td>6.99</td>\n",
       "      <td>...</td>\n",
       "      <td>2024-06-22T19:10:00Z</td>\n",
       "      <td>Not Available</td>\n",
       "      <td>Not Available</td>\n",
       "      <td>Not Available</td>\n",
       "      <td>Not Available</td>\n",
       "      <td>CEDARS MEDITERRANEAN FOOD Taboule Salad, 14 OZ</td>\n",
       "      <td>Not Available</td>\n",
       "      <td>Not Available</td>\n",
       "      <td>Not Available</td>\n",
       "      <td>Not Available</td>\n",
       "    </tr>\n",
       "    <tr>\n",
       "      <th>4</th>\n",
       "      <td>panda01</td>\n",
       "      <td>113-4836339-2623440</td>\n",
       "      <td>2024-06-22T19:09:46Z</td>\n",
       "      <td>Not Applicable</td>\n",
       "      <td>USD</td>\n",
       "      <td>4.29</td>\n",
       "      <td>0.0</td>\n",
       "      <td>0.0</td>\n",
       "      <td>0</td>\n",
       "      <td>4.29</td>\n",
       "      <td>...</td>\n",
       "      <td>2024-06-22T19:10:00Z</td>\n",
       "      <td>Not Available</td>\n",
       "      <td>Not Available</td>\n",
       "      <td>Not Available</td>\n",
       "      <td>Not Available</td>\n",
       "      <td>NATURESWEET Cherub Cherry Tomato, 10 OZ</td>\n",
       "      <td>Not Available</td>\n",
       "      <td>Not Available</td>\n",
       "      <td>Not Available</td>\n",
       "      <td>Not Available</td>\n",
       "    </tr>\n",
       "  </tbody>\n",
       "</table>\n",
       "<p>5 rows × 28 columns</p>\n",
       "</div>"
      ],
      "text/plain": [
       "      Website             Order ID                Order Date  \\\n",
       "0  Amazon.com  113-5136059-8949860      2024-07-04T12:00:54Z   \n",
       "1  Amazon.com  111-5780723-7821826  2024-07-04T07:56:02.730Z   \n",
       "2     panda01  113-4836339-2623440      2024-06-22T19:09:46Z   \n",
       "3     panda01  113-4836339-2623440      2024-06-22T19:09:46Z   \n",
       "4     panda01  113-4836339-2623440      2024-06-22T19:09:46Z   \n",
       "\n",
       "  Purchase Order Number Currency Unit Price  Unit Price Tax  Shipping Charge  \\\n",
       "0        Not Applicable      USD      26.28             0.5              0.0   \n",
       "1        Not Applicable      USD      35.88             0.0              0.0   \n",
       "2        Not Applicable      USD       2.24             0.0              0.0   \n",
       "3        Not Applicable      USD       6.99             0.0              0.0   \n",
       "4        Not Applicable      USD       4.29             0.0              0.0   \n",
       "\n",
       "  Total Discounts Total Owed  ...             Ship Date Shipping Option  \\\n",
       "0         '-1.31'      25.47  ...  2024-07-10T21:24:35Z      std-sns-us   \n",
       "1               0          0  ...         Not Available      std-sns-us   \n",
       "2               0       2.24  ...  2024-06-22T19:10:00Z   Not Available   \n",
       "3               0       6.99  ...  2024-06-22T19:10:00Z   Not Available   \n",
       "4               0       4.29  ...  2024-06-22T19:10:00Z   Not Available   \n",
       "\n",
       "                                    Shipping Address  \\\n",
       "0  Danielle Maxwell 255 CAMDEN PARK DR LAWRENCEVI...   \n",
       "1  Danielle Maxwell 255 CAMDEN PARK DR LAWRENCEVI...   \n",
       "2                                      Not Available   \n",
       "3                                      Not Available   \n",
       "4                                      Not Available   \n",
       "\n",
       "                                     Billing Address  \\\n",
       "0  Danielle Maxwell 255 CAMDEN PARK DR LAWRENCEVI...   \n",
       "1  Danielle Maxwell 255 CAMDEN PARK DR LAWRENCEVI...   \n",
       "2                                      Not Available   \n",
       "3                                      Not Available   \n",
       "4                                      Not Available   \n",
       "\n",
       "   Carrier Name & Tracking Number  \\\n",
       "0    USPS(9361289675033670028690)   \n",
       "1                   Not Available   \n",
       "2                   Not Available   \n",
       "3                   Not Available   \n",
       "4                   Not Available   \n",
       "\n",
       "                                        Product Name   Gift Message  \\\n",
       "0  GoMacro MacroBar Organic Vegan Protein Bars - ...  Not Available   \n",
       "1  GoMacro MacroBar Organic Vegan Protein Bars - ...  Not Available   \n",
       "2                  PRODUCE Organic Cripps Pink Apple  Not Available   \n",
       "3     CEDARS MEDITERRANEAN FOOD Taboule Salad, 14 OZ  Not Available   \n",
       "4            NATURESWEET Cherub Cherry Tomato, 10 OZ  Not Available   \n",
       "\n",
       "  Gift Sender Name Gift Recipient Contact Details Item Serial Number  \n",
       "0    Not Available                  Not Available      Not Available  \n",
       "1    Not Available                  Not Available      Not Available  \n",
       "2    Not Available                  Not Available      Not Available  \n",
       "3    Not Available                  Not Available      Not Available  \n",
       "4    Not Available                  Not Available      Not Available  \n",
       "\n",
       "[5 rows x 28 columns]"
      ]
     },
     "execution_count": 3,
     "metadata": {},
     "output_type": "execute_result"
    }
   ],
   "source": [
    "df.head()"
   ]
  },
  {
   "cell_type": "code",
   "execution_count": 5,
   "id": "9f0b3e73-cb40-4f30-ac34-9f570f44df6d",
   "metadata": {},
   "outputs": [
    {
     "data": {
      "text/html": [
       "<div>\n",
       "<style scoped>\n",
       "    .dataframe tbody tr th:only-of-type {\n",
       "        vertical-align: middle;\n",
       "    }\n",
       "\n",
       "    .dataframe tbody tr th {\n",
       "        vertical-align: top;\n",
       "    }\n",
       "\n",
       "    .dataframe thead th {\n",
       "        text-align: right;\n",
       "    }\n",
       "</style>\n",
       "<table border=\"1\" class=\"dataframe\">\n",
       "  <thead>\n",
       "    <tr style=\"text-align: right;\">\n",
       "      <th></th>\n",
       "      <th>Website</th>\n",
       "      <th>Order ID</th>\n",
       "      <th>Order Date</th>\n",
       "      <th>Purchase Order Number</th>\n",
       "      <th>Currency</th>\n",
       "      <th>Unit Price</th>\n",
       "      <th>Unit Price Tax</th>\n",
       "      <th>Shipping Charge</th>\n",
       "      <th>Total Discounts</th>\n",
       "      <th>Total Owed</th>\n",
       "      <th>...</th>\n",
       "      <th>Ship Date</th>\n",
       "      <th>Shipping Option</th>\n",
       "      <th>Shipping Address</th>\n",
       "      <th>Billing Address</th>\n",
       "      <th>Carrier Name &amp; Tracking Number</th>\n",
       "      <th>Product Name</th>\n",
       "      <th>Gift Message</th>\n",
       "      <th>Gift Sender Name</th>\n",
       "      <th>Gift Recipient Contact Details</th>\n",
       "      <th>Item Serial Number</th>\n",
       "    </tr>\n",
       "  </thead>\n",
       "  <tbody>\n",
       "    <tr>\n",
       "      <th>0</th>\n",
       "      <td>Amazon.com</td>\n",
       "      <td>113-5136059-8949860</td>\n",
       "      <td>2024-07-04T12:00:54Z</td>\n",
       "      <td>Not Applicable</td>\n",
       "      <td>USD</td>\n",
       "      <td>26.28</td>\n",
       "      <td>0.5</td>\n",
       "      <td>0.0</td>\n",
       "      <td>'-1.31'</td>\n",
       "      <td>25.47</td>\n",
       "      <td>...</td>\n",
       "      <td>2024-07-10T21:24:35Z</td>\n",
       "      <td>std-sns-us</td>\n",
       "      <td>Danielle Maxwell 255 CAMDEN PARK DR LAWRENCEVI...</td>\n",
       "      <td>Danielle Maxwell 255 CAMDEN PARK DR LAWRENCEVI...</td>\n",
       "      <td>USPS(9361289675033670028690)</td>\n",
       "      <td>GoMacro MacroBar Organic Vegan Protein Bars - ...</td>\n",
       "      <td>Not Available</td>\n",
       "      <td>Not Available</td>\n",
       "      <td>Not Available</td>\n",
       "      <td>Not Available</td>\n",
       "    </tr>\n",
       "    <tr>\n",
       "      <th>1</th>\n",
       "      <td>Amazon.com</td>\n",
       "      <td>111-5780723-7821826</td>\n",
       "      <td>2024-07-04T07:56:02.730Z</td>\n",
       "      <td>Not Applicable</td>\n",
       "      <td>USD</td>\n",
       "      <td>35.88</td>\n",
       "      <td>0.0</td>\n",
       "      <td>0.0</td>\n",
       "      <td>0</td>\n",
       "      <td>0</td>\n",
       "      <td>...</td>\n",
       "      <td>Not Available</td>\n",
       "      <td>std-sns-us</td>\n",
       "      <td>Danielle Maxwell 255 CAMDEN PARK DR LAWRENCEVI...</td>\n",
       "      <td>Danielle Maxwell 255 CAMDEN PARK DR LAWRENCEVI...</td>\n",
       "      <td>Not Available</td>\n",
       "      <td>GoMacro MacroBar Organic Vegan Protein Bars - ...</td>\n",
       "      <td>Not Available</td>\n",
       "      <td>Not Available</td>\n",
       "      <td>Not Available</td>\n",
       "      <td>Not Available</td>\n",
       "    </tr>\n",
       "    <tr>\n",
       "      <th>2</th>\n",
       "      <td>panda01</td>\n",
       "      <td>113-4836339-2623440</td>\n",
       "      <td>2024-06-22T19:09:46Z</td>\n",
       "      <td>Not Applicable</td>\n",
       "      <td>USD</td>\n",
       "      <td>2.24</td>\n",
       "      <td>0.0</td>\n",
       "      <td>0.0</td>\n",
       "      <td>0</td>\n",
       "      <td>2.24</td>\n",
       "      <td>...</td>\n",
       "      <td>2024-06-22T19:10:00Z</td>\n",
       "      <td>Not Available</td>\n",
       "      <td>Not Available</td>\n",
       "      <td>Not Available</td>\n",
       "      <td>Not Available</td>\n",
       "      <td>PRODUCE Organic Cripps Pink Apple</td>\n",
       "      <td>Not Available</td>\n",
       "      <td>Not Available</td>\n",
       "      <td>Not Available</td>\n",
       "      <td>Not Available</td>\n",
       "    </tr>\n",
       "    <tr>\n",
       "      <th>3</th>\n",
       "      <td>panda01</td>\n",
       "      <td>113-4836339-2623440</td>\n",
       "      <td>2024-06-22T19:09:46Z</td>\n",
       "      <td>Not Applicable</td>\n",
       "      <td>USD</td>\n",
       "      <td>6.99</td>\n",
       "      <td>0.0</td>\n",
       "      <td>0.0</td>\n",
       "      <td>0</td>\n",
       "      <td>6.99</td>\n",
       "      <td>...</td>\n",
       "      <td>2024-06-22T19:10:00Z</td>\n",
       "      <td>Not Available</td>\n",
       "      <td>Not Available</td>\n",
       "      <td>Not Available</td>\n",
       "      <td>Not Available</td>\n",
       "      <td>CEDARS MEDITERRANEAN FOOD Taboule Salad, 14 OZ</td>\n",
       "      <td>Not Available</td>\n",
       "      <td>Not Available</td>\n",
       "      <td>Not Available</td>\n",
       "      <td>Not Available</td>\n",
       "    </tr>\n",
       "    <tr>\n",
       "      <th>4</th>\n",
       "      <td>panda01</td>\n",
       "      <td>113-4836339-2623440</td>\n",
       "      <td>2024-06-22T19:09:46Z</td>\n",
       "      <td>Not Applicable</td>\n",
       "      <td>USD</td>\n",
       "      <td>4.29</td>\n",
       "      <td>0.0</td>\n",
       "      <td>0.0</td>\n",
       "      <td>0</td>\n",
       "      <td>4.29</td>\n",
       "      <td>...</td>\n",
       "      <td>2024-06-22T19:10:00Z</td>\n",
       "      <td>Not Available</td>\n",
       "      <td>Not Available</td>\n",
       "      <td>Not Available</td>\n",
       "      <td>Not Available</td>\n",
       "      <td>NATURESWEET Cherub Cherry Tomato, 10 OZ</td>\n",
       "      <td>Not Available</td>\n",
       "      <td>Not Available</td>\n",
       "      <td>Not Available</td>\n",
       "      <td>Not Available</td>\n",
       "    </tr>\n",
       "    <tr>\n",
       "      <th>5</th>\n",
       "      <td>Amazon.com</td>\n",
       "      <td>113-0208703-1106639</td>\n",
       "      <td>2024-06-04T19:34:03Z</td>\n",
       "      <td>Not Applicable</td>\n",
       "      <td>USD</td>\n",
       "      <td>26.28</td>\n",
       "      <td>0.5</td>\n",
       "      <td>0.0</td>\n",
       "      <td>'-1.31'</td>\n",
       "      <td>25.47</td>\n",
       "      <td>...</td>\n",
       "      <td>2024-06-10T21:13:24Z</td>\n",
       "      <td>std-sns-us</td>\n",
       "      <td>Danielle Maxwell 255 CAMDEN PARK DR LAWRENCEVI...</td>\n",
       "      <td>Danielle Maxwell 255 CAMDEN PARK DR LAWRENCEVI...</td>\n",
       "      <td>AMZN_US(TBA313721309511)</td>\n",
       "      <td>GoMacro MacroBar Organic Vegan Protein Bars - ...</td>\n",
       "      <td>Not Available</td>\n",
       "      <td>Not Available</td>\n",
       "      <td>Not Available</td>\n",
       "      <td>Not Available</td>\n",
       "    </tr>\n",
       "    <tr>\n",
       "      <th>6</th>\n",
       "      <td>panda01</td>\n",
       "      <td>113-0281809-5246619</td>\n",
       "      <td>2024-06-04T00:24:15Z</td>\n",
       "      <td>Not Applicable</td>\n",
       "      <td>USD</td>\n",
       "      <td>4.99</td>\n",
       "      <td>0.0</td>\n",
       "      <td>0.0</td>\n",
       "      <td>0</td>\n",
       "      <td>4.99</td>\n",
       "      <td>...</td>\n",
       "      <td>2024-06-04T00:24:35Z</td>\n",
       "      <td>Not Available</td>\n",
       "      <td>Not Available</td>\n",
       "      <td>Not Available</td>\n",
       "      <td>Not Available</td>\n",
       "      <td>VISTA HERMOSA Sweet Potato and Cactus Burrito,...</td>\n",
       "      <td>Not Available</td>\n",
       "      <td>Not Available</td>\n",
       "      <td>Not Available</td>\n",
       "      <td>Not Available</td>\n",
       "    </tr>\n",
       "    <tr>\n",
       "      <th>7</th>\n",
       "      <td>panda01</td>\n",
       "      <td>113-0281809-5246619</td>\n",
       "      <td>2024-06-04T00:24:15Z</td>\n",
       "      <td>Not Applicable</td>\n",
       "      <td>USD</td>\n",
       "      <td>2.66</td>\n",
       "      <td>0.0</td>\n",
       "      <td>0.0</td>\n",
       "      <td>0</td>\n",
       "      <td>2.66</td>\n",
       "      <td>...</td>\n",
       "      <td>2024-06-04T00:24:35Z</td>\n",
       "      <td>Not Available</td>\n",
       "      <td>Not Available</td>\n",
       "      <td>Not Available</td>\n",
       "      <td>Not Available</td>\n",
       "      <td>PRODUCE Organic Cripps Pink Apple</td>\n",
       "      <td>Not Available</td>\n",
       "      <td>Not Available</td>\n",
       "      <td>Not Available</td>\n",
       "      <td>Not Available</td>\n",
       "    </tr>\n",
       "    <tr>\n",
       "      <th>8</th>\n",
       "      <td>panda01</td>\n",
       "      <td>113-0281809-5246619</td>\n",
       "      <td>2024-06-04T00:24:15Z</td>\n",
       "      <td>Not Applicable</td>\n",
       "      <td>USD</td>\n",
       "      <td>5.39</td>\n",
       "      <td>0.0</td>\n",
       "      <td>0.0</td>\n",
       "      <td>0</td>\n",
       "      <td>5.39</td>\n",
       "      <td>...</td>\n",
       "      <td>2024-06-04T00:24:35Z</td>\n",
       "      <td>Not Available</td>\n",
       "      <td>Not Available</td>\n",
       "      <td>Not Available</td>\n",
       "      <td>Not Available</td>\n",
       "      <td>Cleveland Kitchen Veggie Caesar Dressing &amp; Mar...</td>\n",
       "      <td>Not Available</td>\n",
       "      <td>Not Available</td>\n",
       "      <td>Not Available</td>\n",
       "      <td>Not Available</td>\n",
       "    </tr>\n",
       "    <tr>\n",
       "      <th>9</th>\n",
       "      <td>panda01</td>\n",
       "      <td>113-0281809-5246619</td>\n",
       "      <td>2024-06-04T00:24:15Z</td>\n",
       "      <td>Not Applicable</td>\n",
       "      <td>USD</td>\n",
       "      <td>7.99</td>\n",
       "      <td>0.0</td>\n",
       "      <td>0.0</td>\n",
       "      <td>0</td>\n",
       "      <td>7.99</td>\n",
       "      <td>...</td>\n",
       "      <td>2024-06-04T00:24:35Z</td>\n",
       "      <td>Not Available</td>\n",
       "      <td>Not Available</td>\n",
       "      <td>Not Available</td>\n",
       "      <td>Not Available</td>\n",
       "      <td>365 by Whole Foods Market Vegan Macaroni &amp; Che...</td>\n",
       "      <td>Not Available</td>\n",
       "      <td>Not Available</td>\n",
       "      <td>Not Available</td>\n",
       "      <td>Not Available</td>\n",
       "    </tr>\n",
       "  </tbody>\n",
       "</table>\n",
       "<p>10 rows × 28 columns</p>\n",
       "</div>"
      ],
      "text/plain": [
       "      Website             Order ID                Order Date  \\\n",
       "0  Amazon.com  113-5136059-8949860      2024-07-04T12:00:54Z   \n",
       "1  Amazon.com  111-5780723-7821826  2024-07-04T07:56:02.730Z   \n",
       "2     panda01  113-4836339-2623440      2024-06-22T19:09:46Z   \n",
       "3     panda01  113-4836339-2623440      2024-06-22T19:09:46Z   \n",
       "4     panda01  113-4836339-2623440      2024-06-22T19:09:46Z   \n",
       "5  Amazon.com  113-0208703-1106639      2024-06-04T19:34:03Z   \n",
       "6     panda01  113-0281809-5246619      2024-06-04T00:24:15Z   \n",
       "7     panda01  113-0281809-5246619      2024-06-04T00:24:15Z   \n",
       "8     panda01  113-0281809-5246619      2024-06-04T00:24:15Z   \n",
       "9     panda01  113-0281809-5246619      2024-06-04T00:24:15Z   \n",
       "\n",
       "  Purchase Order Number Currency Unit Price  Unit Price Tax  Shipping Charge  \\\n",
       "0        Not Applicable      USD      26.28             0.5              0.0   \n",
       "1        Not Applicable      USD      35.88             0.0              0.0   \n",
       "2        Not Applicable      USD       2.24             0.0              0.0   \n",
       "3        Not Applicable      USD       6.99             0.0              0.0   \n",
       "4        Not Applicable      USD       4.29             0.0              0.0   \n",
       "5        Not Applicable      USD      26.28             0.5              0.0   \n",
       "6        Not Applicable      USD       4.99             0.0              0.0   \n",
       "7        Not Applicable      USD       2.66             0.0              0.0   \n",
       "8        Not Applicable      USD       5.39             0.0              0.0   \n",
       "9        Not Applicable      USD       7.99             0.0              0.0   \n",
       "\n",
       "  Total Discounts Total Owed  ...             Ship Date Shipping Option  \\\n",
       "0         '-1.31'      25.47  ...  2024-07-10T21:24:35Z      std-sns-us   \n",
       "1               0          0  ...         Not Available      std-sns-us   \n",
       "2               0       2.24  ...  2024-06-22T19:10:00Z   Not Available   \n",
       "3               0       6.99  ...  2024-06-22T19:10:00Z   Not Available   \n",
       "4               0       4.29  ...  2024-06-22T19:10:00Z   Not Available   \n",
       "5         '-1.31'      25.47  ...  2024-06-10T21:13:24Z      std-sns-us   \n",
       "6               0       4.99  ...  2024-06-04T00:24:35Z   Not Available   \n",
       "7               0       2.66  ...  2024-06-04T00:24:35Z   Not Available   \n",
       "8               0       5.39  ...  2024-06-04T00:24:35Z   Not Available   \n",
       "9               0       7.99  ...  2024-06-04T00:24:35Z   Not Available   \n",
       "\n",
       "                                    Shipping Address  \\\n",
       "0  Danielle Maxwell 255 CAMDEN PARK DR LAWRENCEVI...   \n",
       "1  Danielle Maxwell 255 CAMDEN PARK DR LAWRENCEVI...   \n",
       "2                                      Not Available   \n",
       "3                                      Not Available   \n",
       "4                                      Not Available   \n",
       "5  Danielle Maxwell 255 CAMDEN PARK DR LAWRENCEVI...   \n",
       "6                                      Not Available   \n",
       "7                                      Not Available   \n",
       "8                                      Not Available   \n",
       "9                                      Not Available   \n",
       "\n",
       "                                     Billing Address  \\\n",
       "0  Danielle Maxwell 255 CAMDEN PARK DR LAWRENCEVI...   \n",
       "1  Danielle Maxwell 255 CAMDEN PARK DR LAWRENCEVI...   \n",
       "2                                      Not Available   \n",
       "3                                      Not Available   \n",
       "4                                      Not Available   \n",
       "5  Danielle Maxwell 255 CAMDEN PARK DR LAWRENCEVI...   \n",
       "6                                      Not Available   \n",
       "7                                      Not Available   \n",
       "8                                      Not Available   \n",
       "9                                      Not Available   \n",
       "\n",
       "   Carrier Name & Tracking Number  \\\n",
       "0    USPS(9361289675033670028690)   \n",
       "1                   Not Available   \n",
       "2                   Not Available   \n",
       "3                   Not Available   \n",
       "4                   Not Available   \n",
       "5        AMZN_US(TBA313721309511)   \n",
       "6                   Not Available   \n",
       "7                   Not Available   \n",
       "8                   Not Available   \n",
       "9                   Not Available   \n",
       "\n",
       "                                        Product Name   Gift Message  \\\n",
       "0  GoMacro MacroBar Organic Vegan Protein Bars - ...  Not Available   \n",
       "1  GoMacro MacroBar Organic Vegan Protein Bars - ...  Not Available   \n",
       "2                  PRODUCE Organic Cripps Pink Apple  Not Available   \n",
       "3     CEDARS MEDITERRANEAN FOOD Taboule Salad, 14 OZ  Not Available   \n",
       "4            NATURESWEET Cherub Cherry Tomato, 10 OZ  Not Available   \n",
       "5  GoMacro MacroBar Organic Vegan Protein Bars - ...  Not Available   \n",
       "6  VISTA HERMOSA Sweet Potato and Cactus Burrito,...  Not Available   \n",
       "7                  PRODUCE Organic Cripps Pink Apple  Not Available   \n",
       "8  Cleveland Kitchen Veggie Caesar Dressing & Mar...  Not Available   \n",
       "9  365 by Whole Foods Market Vegan Macaroni & Che...  Not Available   \n",
       "\n",
       "  Gift Sender Name Gift Recipient Contact Details Item Serial Number  \n",
       "0    Not Available                  Not Available      Not Available  \n",
       "1    Not Available                  Not Available      Not Available  \n",
       "2    Not Available                  Not Available      Not Available  \n",
       "3    Not Available                  Not Available      Not Available  \n",
       "4    Not Available                  Not Available      Not Available  \n",
       "5    Not Available                  Not Available      Not Available  \n",
       "6    Not Available                  Not Available      Not Available  \n",
       "7    Not Available                  Not Available      Not Available  \n",
       "8    Not Available                  Not Available      Not Available  \n",
       "9    Not Available                  Not Available      Not Available  \n",
       "\n",
       "[10 rows x 28 columns]"
      ]
     },
     "execution_count": 5,
     "metadata": {},
     "output_type": "execute_result"
    }
   ],
   "source": [
    "df.head(10)"
   ]
  },
  {
   "cell_type": "code",
   "execution_count": 4,
   "id": "5fab36f6-5fee-4825-87a7-abf1febc1828",
   "metadata": {},
   "outputs": [
    {
     "data": {
      "text/plain": [
       "Website                            object\n",
       "Order ID                           object\n",
       "Order Date                         object\n",
       "Purchase Order Number              object\n",
       "Currency                           object\n",
       "Unit Price                         object\n",
       "Unit Price Tax                    float64\n",
       "Shipping Charge                   float64\n",
       "Total Discounts                    object\n",
       "Total Owed                         object\n",
       "Shipment Item Subtotal             object\n",
       "Shipment Item Subtotal Tax         object\n",
       "ASIN                               object\n",
       "Product Condition                  object\n",
       "Quantity                            int64\n",
       "Payment Instrument Type            object\n",
       "Order Status                       object\n",
       "Shipment Status                    object\n",
       "Ship Date                          object\n",
       "Shipping Option                    object\n",
       "Shipping Address                   object\n",
       "Billing Address                    object\n",
       "Carrier Name & Tracking Number     object\n",
       "Product Name                       object\n",
       "Gift Message                       object\n",
       "Gift Sender Name                   object\n",
       "Gift Recipient Contact Details     object\n",
       "Item Serial Number                 object\n",
       "dtype: object"
      ]
     },
     "execution_count": 4,
     "metadata": {},
     "output_type": "execute_result"
    }
   ],
   "source": [
    "df.dtypes"
   ]
  },
  {
   "cell_type": "code",
   "execution_count": 5,
   "id": "e12f18d0-831b-465f-9408-6d272c730509",
   "metadata": {},
   "outputs": [
    {
     "data": {
      "text/plain": [
       "(782, 28)"
      ]
     },
     "execution_count": 5,
     "metadata": {},
     "output_type": "execute_result"
    }
   ],
   "source": [
    "df.shape"
   ]
  },
  {
   "cell_type": "code",
   "execution_count": 6,
   "id": "80e51a70-5af7-4d38-a876-a6e5ff333963",
   "metadata": {},
   "outputs": [],
   "source": [
    "# df['Order Date'] = pd.to_datetime(df['Order Date'])\n",
    "df['Order Date'] = df['Order Date'].apply(pd.to_datetime)"
   ]
  },
  {
   "cell_type": "code",
   "execution_count": 19,
   "id": "c54e61e2-1150-4a03-b591-04bce675fc4e",
   "metadata": {},
   "outputs": [
    {
     "name": "stdout",
     "output_type": "stream",
     "text": [
      "Ordered 818 items from Feb 17, 2003 to Jul 04, 2024\n"
     ]
    }
   ],
   "source": [
    "earliest = df['Order Date'].min()\n",
    "latest = df['Order Date'].max()\n",
    "items_ordered = df['Quantity'].sum()\n",
    "print(f\"Ordered {items_ordered:,} items from {earliest.strftime('%b %d, %Y')} to {latest.strftime('%b %d, %Y')}\")"
   ]
  },
  {
   "cell_type": "code",
   "execution_count": 15,
   "id": "8c48c29d-b250-4bf5-a603-8762953bfbf1",
   "metadata": {},
   "outputs": [
    {
     "ename": "AttributeError",
     "evalue": "Can only use .str accessor with string values!",
     "output_type": "error",
     "traceback": [
      "\u001b[0;31m---------------------------------------------------------------------------\u001b[0m",
      "\u001b[0;31mAttributeError\u001b[0m                            Traceback (most recent call last)",
      "Cell \u001b[0;32mIn[15], line 1\u001b[0m\n\u001b[0;32m----> 1\u001b[0m df[\u001b[38;5;124m'\u001b[39m\u001b[38;5;124mTotal Owed\u001b[39m\u001b[38;5;124m'\u001b[39m] \u001b[38;5;241m=\u001b[39m \u001b[43mdf\u001b[49m\u001b[43m[\u001b[49m\u001b[38;5;124;43m'\u001b[39;49m\u001b[38;5;124;43mTotal Owed\u001b[39;49m\u001b[38;5;124;43m'\u001b[39;49m\u001b[43m]\u001b[49m\u001b[38;5;241;43m.\u001b[39;49m\u001b[43mstr\u001b[49m\u001b[38;5;241m.\u001b[39mreplace(\u001b[38;5;124m'\u001b[39m\u001b[38;5;124m,\u001b[39m\u001b[38;5;124m'\u001b[39m, \u001b[38;5;124m'\u001b[39m\u001b[38;5;124m'\u001b[39m)\u001b[38;5;241m.\u001b[39mastype(\u001b[38;5;28mfloat\u001b[39m)\n",
      "File \u001b[0;32m/Library/Frameworks/Python.framework/Versions/3.10/lib/python3.10/site-packages/pandas/core/generic.py:6204\u001b[0m, in \u001b[0;36mNDFrame.__getattr__\u001b[0;34m(self, name)\u001b[0m\n\u001b[1;32m   6197\u001b[0m \u001b[38;5;28;01mif\u001b[39;00m (\n\u001b[1;32m   6198\u001b[0m     name \u001b[38;5;129;01mnot\u001b[39;00m \u001b[38;5;129;01min\u001b[39;00m \u001b[38;5;28mself\u001b[39m\u001b[38;5;241m.\u001b[39m_internal_names_set\n\u001b[1;32m   6199\u001b[0m     \u001b[38;5;129;01mand\u001b[39;00m name \u001b[38;5;129;01mnot\u001b[39;00m \u001b[38;5;129;01min\u001b[39;00m \u001b[38;5;28mself\u001b[39m\u001b[38;5;241m.\u001b[39m_metadata\n\u001b[1;32m   6200\u001b[0m     \u001b[38;5;129;01mand\u001b[39;00m name \u001b[38;5;129;01mnot\u001b[39;00m \u001b[38;5;129;01min\u001b[39;00m \u001b[38;5;28mself\u001b[39m\u001b[38;5;241m.\u001b[39m_accessors\n\u001b[1;32m   6201\u001b[0m     \u001b[38;5;129;01mand\u001b[39;00m \u001b[38;5;28mself\u001b[39m\u001b[38;5;241m.\u001b[39m_info_axis\u001b[38;5;241m.\u001b[39m_can_hold_identifiers_and_holds_name(name)\n\u001b[1;32m   6202\u001b[0m ):\n\u001b[1;32m   6203\u001b[0m     \u001b[38;5;28;01mreturn\u001b[39;00m \u001b[38;5;28mself\u001b[39m[name]\n\u001b[0;32m-> 6204\u001b[0m \u001b[38;5;28;01mreturn\u001b[39;00m \u001b[38;5;28;43mobject\u001b[39;49m\u001b[38;5;241;43m.\u001b[39;49m\u001b[38;5;21;43m__getattribute__\u001b[39;49m\u001b[43m(\u001b[49m\u001b[38;5;28;43mself\u001b[39;49m\u001b[43m,\u001b[49m\u001b[43m \u001b[49m\u001b[43mname\u001b[49m\u001b[43m)\u001b[49m\n",
      "File \u001b[0;32m/Library/Frameworks/Python.framework/Versions/3.10/lib/python3.10/site-packages/pandas/core/accessor.py:224\u001b[0m, in \u001b[0;36mCachedAccessor.__get__\u001b[0;34m(self, obj, cls)\u001b[0m\n\u001b[1;32m    221\u001b[0m \u001b[38;5;28;01mif\u001b[39;00m obj \u001b[38;5;129;01mis\u001b[39;00m \u001b[38;5;28;01mNone\u001b[39;00m:\n\u001b[1;32m    222\u001b[0m     \u001b[38;5;66;03m# we're accessing the attribute of the class, i.e., Dataset.geo\u001b[39;00m\n\u001b[1;32m    223\u001b[0m     \u001b[38;5;28;01mreturn\u001b[39;00m \u001b[38;5;28mself\u001b[39m\u001b[38;5;241m.\u001b[39m_accessor\n\u001b[0;32m--> 224\u001b[0m accessor_obj \u001b[38;5;241m=\u001b[39m \u001b[38;5;28;43mself\u001b[39;49m\u001b[38;5;241;43m.\u001b[39;49m\u001b[43m_accessor\u001b[49m\u001b[43m(\u001b[49m\u001b[43mobj\u001b[49m\u001b[43m)\u001b[49m\n\u001b[1;32m    225\u001b[0m \u001b[38;5;66;03m# Replace the property with the accessor object. Inspired by:\u001b[39;00m\n\u001b[1;32m    226\u001b[0m \u001b[38;5;66;03m# https://www.pydanny.com/cached-property.html\u001b[39;00m\n\u001b[1;32m    227\u001b[0m \u001b[38;5;66;03m# We need to use object.__setattr__ because we overwrite __setattr__ on\u001b[39;00m\n\u001b[1;32m    228\u001b[0m \u001b[38;5;66;03m# NDFrame\u001b[39;00m\n\u001b[1;32m    229\u001b[0m \u001b[38;5;28mobject\u001b[39m\u001b[38;5;241m.\u001b[39m\u001b[38;5;21m__setattr__\u001b[39m(obj, \u001b[38;5;28mself\u001b[39m\u001b[38;5;241m.\u001b[39m_name, accessor_obj)\n",
      "File \u001b[0;32m/Library/Frameworks/Python.framework/Versions/3.10/lib/python3.10/site-packages/pandas/core/strings/accessor.py:190\u001b[0m, in \u001b[0;36mStringMethods.__init__\u001b[0;34m(self, data)\u001b[0m\n\u001b[1;32m    187\u001b[0m \u001b[38;5;28;01mdef\u001b[39;00m \u001b[38;5;21m__init__\u001b[39m(\u001b[38;5;28mself\u001b[39m, data) \u001b[38;5;241m-\u001b[39m\u001b[38;5;241m>\u001b[39m \u001b[38;5;28;01mNone\u001b[39;00m:\n\u001b[1;32m    188\u001b[0m     \u001b[38;5;28;01mfrom\u001b[39;00m \u001b[38;5;21;01mpandas\u001b[39;00m\u001b[38;5;21;01m.\u001b[39;00m\u001b[38;5;21;01mcore\u001b[39;00m\u001b[38;5;21;01m.\u001b[39;00m\u001b[38;5;21;01marrays\u001b[39;00m\u001b[38;5;21;01m.\u001b[39;00m\u001b[38;5;21;01mstring_\u001b[39;00m \u001b[38;5;28;01mimport\u001b[39;00m StringDtype\n\u001b[0;32m--> 190\u001b[0m     \u001b[38;5;28mself\u001b[39m\u001b[38;5;241m.\u001b[39m_inferred_dtype \u001b[38;5;241m=\u001b[39m \u001b[38;5;28;43mself\u001b[39;49m\u001b[38;5;241;43m.\u001b[39;49m\u001b[43m_validate\u001b[49m\u001b[43m(\u001b[49m\u001b[43mdata\u001b[49m\u001b[43m)\u001b[49m\n\u001b[1;32m    191\u001b[0m     \u001b[38;5;28mself\u001b[39m\u001b[38;5;241m.\u001b[39m_is_categorical \u001b[38;5;241m=\u001b[39m \u001b[38;5;28misinstance\u001b[39m(data\u001b[38;5;241m.\u001b[39mdtype, CategoricalDtype)\n\u001b[1;32m    192\u001b[0m     \u001b[38;5;28mself\u001b[39m\u001b[38;5;241m.\u001b[39m_is_string \u001b[38;5;241m=\u001b[39m \u001b[38;5;28misinstance\u001b[39m(data\u001b[38;5;241m.\u001b[39mdtype, StringDtype)\n",
      "File \u001b[0;32m/Library/Frameworks/Python.framework/Versions/3.10/lib/python3.10/site-packages/pandas/core/strings/accessor.py:244\u001b[0m, in \u001b[0;36mStringMethods._validate\u001b[0;34m(data)\u001b[0m\n\u001b[1;32m    241\u001b[0m inferred_dtype \u001b[38;5;241m=\u001b[39m lib\u001b[38;5;241m.\u001b[39minfer_dtype(values, skipna\u001b[38;5;241m=\u001b[39m\u001b[38;5;28;01mTrue\u001b[39;00m)\n\u001b[1;32m    243\u001b[0m \u001b[38;5;28;01mif\u001b[39;00m inferred_dtype \u001b[38;5;129;01mnot\u001b[39;00m \u001b[38;5;129;01min\u001b[39;00m allowed_types:\n\u001b[0;32m--> 244\u001b[0m     \u001b[38;5;28;01mraise\u001b[39;00m \u001b[38;5;167;01mAttributeError\u001b[39;00m(\u001b[38;5;124m\"\u001b[39m\u001b[38;5;124mCan only use .str accessor with string values!\u001b[39m\u001b[38;5;124m\"\u001b[39m)\n\u001b[1;32m    245\u001b[0m \u001b[38;5;28;01mreturn\u001b[39;00m inferred_dtype\n",
      "\u001b[0;31mAttributeError\u001b[0m: Can only use .str accessor with string values!"
     ]
    }
   ],
   "source": [
    "df['Total Owed'] = df['Total Owed'].str.replace(',', '').astype(float)"
   ]
  },
  {
   "cell_type": "code",
   "execution_count": 16,
   "id": "9eb4052d-2658-4f51-9299-4c5b84695a9f",
   "metadata": {},
   "outputs": [
    {
     "data": {
      "text/plain": [
       "Website                                        object\n",
       "Order ID                                       object\n",
       "Order Date                        datetime64[ns, UTC]\n",
       "Purchase Order Number                          object\n",
       "Currency                                       object\n",
       "Unit Price                                     object\n",
       "Unit Price Tax                                float64\n",
       "Shipping Charge                               float64\n",
       "Total Discounts                                object\n",
       "Total Owed                                    float64\n",
       "Shipment Item Subtotal                         object\n",
       "Shipment Item Subtotal Tax                     object\n",
       "ASIN                                           object\n",
       "Product Condition                              object\n",
       "Quantity                                        int64\n",
       "Payment Instrument Type                        object\n",
       "Order Status                                   object\n",
       "Shipment Status                                object\n",
       "Ship Date                                      object\n",
       "Shipping Option                                object\n",
       "Shipping Address                               object\n",
       "Billing Address                                object\n",
       "Carrier Name & Tracking Number                 object\n",
       "Product Name                                   object\n",
       "Gift Message                                   object\n",
       "Gift Sender Name                               object\n",
       "Gift Recipient Contact Details                 object\n",
       "Item Serial Number                             object\n",
       "dtype: object"
      ]
     },
     "execution_count": 16,
     "metadata": {},
     "output_type": "execute_result"
    }
   ],
   "source": [
    "df.dtypes"
   ]
  },
  {
   "cell_type": "code",
   "execution_count": 17,
   "id": "ef06331d-fff2-4296-a851-797dda73b563",
   "metadata": {},
   "outputs": [
    {
     "data": {
      "text/html": [
       "<div>\n",
       "<style scoped>\n",
       "    .dataframe tbody tr th:only-of-type {\n",
       "        vertical-align: middle;\n",
       "    }\n",
       "\n",
       "    .dataframe tbody tr th {\n",
       "        vertical-align: top;\n",
       "    }\n",
       "\n",
       "    .dataframe thead th {\n",
       "        text-align: right;\n",
       "    }\n",
       "</style>\n",
       "<table border=\"1\" class=\"dataframe\">\n",
       "  <thead>\n",
       "    <tr style=\"text-align: right;\">\n",
       "      <th></th>\n",
       "      <th>Website</th>\n",
       "      <th>Order ID</th>\n",
       "      <th>Order Date</th>\n",
       "      <th>Purchase Order Number</th>\n",
       "      <th>Currency</th>\n",
       "      <th>Unit Price</th>\n",
       "      <th>Unit Price Tax</th>\n",
       "      <th>Shipping Charge</th>\n",
       "      <th>Total Discounts</th>\n",
       "      <th>Total Owed</th>\n",
       "      <th>...</th>\n",
       "      <th>Ship Date</th>\n",
       "      <th>Shipping Option</th>\n",
       "      <th>Shipping Address</th>\n",
       "      <th>Billing Address</th>\n",
       "      <th>Carrier Name &amp; Tracking Number</th>\n",
       "      <th>Product Name</th>\n",
       "      <th>Gift Message</th>\n",
       "      <th>Gift Sender Name</th>\n",
       "      <th>Gift Recipient Contact Details</th>\n",
       "      <th>Item Serial Number</th>\n",
       "    </tr>\n",
       "  </thead>\n",
       "  <tbody>\n",
       "    <tr>\n",
       "      <th>601</th>\n",
       "      <td>Amazon.com.mx</td>\n",
       "      <td>702-6511832-0459405</td>\n",
       "      <td>2020-09-01 22:43:55+00:00</td>\n",
       "      <td>Not Applicable</td>\n",
       "      <td>MXN</td>\n",
       "      <td>1,583.96</td>\n",
       "      <td>253.43</td>\n",
       "      <td>33.0</td>\n",
       "      <td>0</td>\n",
       "      <td>1870.39</td>\n",
       "      <td>...</td>\n",
       "      <td>2020-09-03T06:58:04Z</td>\n",
       "      <td>next-mx</td>\n",
       "      <td>Danielle Maxwell Calle Ignacio Manuel Altamira...</td>\n",
       "      <td>Danielle Maxwell 6204 Treecrest Parkway Decatu...</td>\n",
       "      <td>AMZMX(TBM059513485009)</td>\n",
       "      <td>Aquasana Filtro para ducha, Filtro de ducha, M...</td>\n",
       "      <td>Enviar en embalaje de Amazon seleccionado</td>\n",
       "      <td>Not Available</td>\n",
       "      <td>Not Available</td>\n",
       "      <td>Not Available</td>\n",
       "    </tr>\n",
       "  </tbody>\n",
       "</table>\n",
       "<p>1 rows × 28 columns</p>\n",
       "</div>"
      ],
      "text/plain": [
       "           Website             Order ID                Order Date  \\\n",
       "601  Amazon.com.mx  702-6511832-0459405 2020-09-01 22:43:55+00:00   \n",
       "\n",
       "    Purchase Order Number Currency Unit Price  Unit Price Tax  \\\n",
       "601        Not Applicable      MXN   1,583.96          253.43   \n",
       "\n",
       "     Shipping Charge Total Discounts  Total Owed  ...             Ship Date  \\\n",
       "601             33.0               0     1870.39  ...  2020-09-03T06:58:04Z   \n",
       "\n",
       "    Shipping Option                                   Shipping Address  \\\n",
       "601         next-mx  Danielle Maxwell Calle Ignacio Manuel Altamira...   \n",
       "\n",
       "                                       Billing Address  \\\n",
       "601  Danielle Maxwell 6204 Treecrest Parkway Decatu...   \n",
       "\n",
       "     Carrier Name & Tracking Number  \\\n",
       "601          AMZMX(TBM059513485009)   \n",
       "\n",
       "                                          Product Name  \\\n",
       "601  Aquasana Filtro para ducha, Filtro de ducha, M...   \n",
       "\n",
       "                                  Gift Message Gift Sender Name  \\\n",
       "601  Enviar en embalaje de Amazon seleccionado    Not Available   \n",
       "\n",
       "    Gift Recipient Contact Details Item Serial Number  \n",
       "601                  Not Available      Not Available  \n",
       "\n",
       "[1 rows x 28 columns]"
      ]
     },
     "execution_count": 17,
     "metadata": {},
     "output_type": "execute_result"
    }
   ],
   "source": [
    "df[df['Total Owed'] == df['Total Owed'].max()]"
   ]
  },
  {
   "cell_type": "code",
   "execution_count": 11,
   "id": "d2f5dd33-88c2-4607-b440-62502a9e4641",
   "metadata": {},
   "outputs": [
    {
     "data": {
      "text/plain": [
       "21259.06"
      ]
     },
     "execution_count": 11,
     "metadata": {},
     "output_type": "execute_result"
    }
   ],
   "source": [
    "df['Total Owed'].sum()"
   ]
  },
  {
   "cell_type": "code",
   "execution_count": 12,
   "id": "0c81ea21-caba-4fd9-bf11-d93a3f0ee3c6",
   "metadata": {},
   "outputs": [
    {
     "data": {
      "text/plain": [
       "27.185498721227624"
      ]
     },
     "execution_count": 12,
     "metadata": {},
     "output_type": "execute_result"
    }
   ],
   "source": [
    "df['Total Owed'].mean()"
   ]
  },
  {
   "cell_type": "code",
   "execution_count": 13,
   "id": "0a2b6adf-6e0e-4c90-928e-4053ba02598d",
   "metadata": {},
   "outputs": [
    {
     "data": {
      "text/plain": [
       "4.49"
      ]
     },
     "execution_count": 13,
     "metadata": {},
     "output_type": "execute_result"
    }
   ],
   "source": [
    "df['Total Owed'].median()"
   ]
  },
  {
   "cell_type": "code",
   "execution_count": 14,
   "id": "a4bc6b04-6371-4ba0-97e2-6c1ac17f5b02",
   "metadata": {},
   "outputs": [
    {
     "data": {
      "text/plain": [
       "0.0"
      ]
     },
     "execution_count": 14,
     "metadata": {},
     "output_type": "execute_result"
    }
   ],
   "source": [
    "df['Total Owed'].min()"
   ]
  },
  {
   "cell_type": "code",
   "execution_count": 15,
   "id": "ebd57420-49bf-4f1c-8dd3-ec77f4c18b69",
   "metadata": {},
   "outputs": [
    {
     "data": {
      "text/html": [
       "<div>\n",
       "<style scoped>\n",
       "    .dataframe tbody tr th:only-of-type {\n",
       "        vertical-align: middle;\n",
       "    }\n",
       "\n",
       "    .dataframe tbody tr th {\n",
       "        vertical-align: top;\n",
       "    }\n",
       "\n",
       "    .dataframe thead th {\n",
       "        text-align: right;\n",
       "    }\n",
       "</style>\n",
       "<table border=\"1\" class=\"dataframe\">\n",
       "  <thead>\n",
       "    <tr style=\"text-align: right;\">\n",
       "      <th></th>\n",
       "      <th>Total Owed</th>\n",
       "      <th>Quantity</th>\n",
       "      <th>Unit Price Tax</th>\n",
       "    </tr>\n",
       "    <tr>\n",
       "      <th>Website</th>\n",
       "      <th></th>\n",
       "      <th></th>\n",
       "      <th></th>\n",
       "    </tr>\n",
       "  </thead>\n",
       "  <tbody>\n",
       "    <tr>\n",
       "      <th>Amazon.com</th>\n",
       "      <td>4116.85</td>\n",
       "      <td>314</td>\n",
       "      <td>151.37</td>\n",
       "    </tr>\n",
       "    <tr>\n",
       "      <th>Amazon.com.mx</th>\n",
       "      <td>15095.78</td>\n",
       "      <td>32</td>\n",
       "      <td>2052.75</td>\n",
       "    </tr>\n",
       "    <tr>\n",
       "      <th>panda01</th>\n",
       "      <td>2046.43</td>\n",
       "      <td>472</td>\n",
       "      <td>0.00</td>\n",
       "    </tr>\n",
       "  </tbody>\n",
       "</table>\n",
       "</div>"
      ],
      "text/plain": [
       "               Total Owed  Quantity  Unit Price Tax\n",
       "Website                                            \n",
       "Amazon.com        4116.85       314          151.37\n",
       "Amazon.com.mx    15095.78        32         2052.75\n",
       "panda01           2046.43       472            0.00"
      ]
     },
     "execution_count": 15,
     "metadata": {},
     "output_type": "execute_result"
    }
   ],
   "source": [
    "df.groupby('Website')[['Total Owed', 'Quantity', 'Unit Price Tax']].sum()"
   ]
  },
  {
   "cell_type": "code",
   "execution_count": 16,
   "id": "19d91acc-7614-4c92-ac41-d7abf2493f24",
   "metadata": {},
   "outputs": [],
   "source": [
    "df['Shipment Item Subtotal Tax'] = df['Shipment Item Subtotal Tax'].str.replace(',', '')"
   ]
  },
  {
   "cell_type": "code",
   "execution_count": 27,
   "id": "d7ae9fc7-423b-4479-9f6a-76382859e1ca",
   "metadata": {},
   "outputs": [],
   "source": [
    "df['Shipment Item Subtotal Tax'] = df['Shipment Item Subtotal Tax'].fillna(0)"
   ]
  },
  {
   "cell_type": "code",
   "execution_count": 29,
   "id": "ed2bf99e-5a51-4293-ae0a-3aecb9a94518",
   "metadata": {},
   "outputs": [
    {
     "data": {
      "text/plain": [
       "0                0.5\n",
       "1      Not Available\n",
       "2                  0\n",
       "3                  0\n",
       "4                  0\n",
       "           ...      \n",
       "777    Not Available\n",
       "778                0\n",
       "779    Not Available\n",
       "780                0\n",
       "781                0\n",
       "Name: Shipment Item Subtotal Tax, Length: 782, dtype: object"
      ]
     },
     "execution_count": 29,
     "metadata": {},
     "output_type": "execute_result"
    }
   ],
   "source": [
    "df['Shipment Item Subtotal Tax']"
   ]
  },
  {
   "cell_type": "code",
   "execution_count": 19,
   "id": "8b32e996-0b1e-475f-9d13-35dd4cf04001",
   "metadata": {},
   "outputs": [],
   "source": [
    "df['Shipment Item Subtotal Tax'] = pd.to_numeric(df['Shipment Item Subtotal Tax'], errors='coerce')"
   ]
  },
  {
   "cell_type": "code",
   "execution_count": 20,
   "id": "54f609e7-8685-44ff-ae20-35c992b59114",
   "metadata": {},
   "outputs": [
    {
     "data": {
      "text/plain": [
       "Website                                        object\n",
       "Order ID                                       object\n",
       "Order Date                        datetime64[ns, UTC]\n",
       "Purchase Order Number                          object\n",
       "Currency                                       object\n",
       "Unit Price                                     object\n",
       "Unit Price Tax                                float64\n",
       "Shipping Charge                               float64\n",
       "Total Discounts                                object\n",
       "Total Owed                                    float64\n",
       "Shipment Item Subtotal                         object\n",
       "Shipment Item Subtotal Tax                    float64\n",
       "ASIN                                           object\n",
       "Product Condition                              object\n",
       "Quantity                                        int64\n",
       "Payment Instrument Type                        object\n",
       "Order Status                                   object\n",
       "Shipment Status                                object\n",
       "Ship Date                                      object\n",
       "Shipping Option                                object\n",
       "Shipping Address                               object\n",
       "Billing Address                                object\n",
       "Carrier Name & Tracking Number                 object\n",
       "Product Name                                   object\n",
       "Gift Message                                   object\n",
       "Gift Sender Name                               object\n",
       "Gift Recipient Contact Details                 object\n",
       "Item Serial Number                             object\n",
       "dtype: object"
      ]
     },
     "execution_count": 20,
     "metadata": {},
     "output_type": "execute_result"
    }
   ],
   "source": [
    "df.dtypes"
   ]
  },
  {
   "cell_type": "code",
   "execution_count": 21,
   "id": "f8816ce2-df2d-41c8-8423-06a182022f76",
   "metadata": {},
   "outputs": [
    {
     "data": {
      "text/plain": [
       "5493.019999999999"
      ]
     },
     "execution_count": 21,
     "metadata": {},
     "output_type": "execute_result"
    }
   ],
   "source": [
    "df['Shipment Item Subtotal Tax'].sum()"
   ]
  },
  {
   "cell_type": "code",
   "execution_count": 22,
   "id": "d3370e5d-6eac-4140-b470-5fc05b61119b",
   "metadata": {},
   "outputs": [
    {
     "data": {
      "text/plain": [
       "336.83"
      ]
     },
     "execution_count": 22,
     "metadata": {},
     "output_type": "execute_result"
    }
   ],
   "source": [
    "df['Shipment Item Subtotal Tax'].max()"
   ]
  },
  {
   "cell_type": "code",
   "execution_count": 23,
   "id": "95c0dbab-2199-48aa-9a74-769c611298d2",
   "metadata": {},
   "outputs": [
    {
     "data": {
      "text/plain": [
       "0.0"
      ]
     },
     "execution_count": 23,
     "metadata": {},
     "output_type": "execute_result"
    }
   ],
   "source": [
    "df['Shipment Item Subtotal Tax'].min()"
   ]
  },
  {
   "cell_type": "code",
   "execution_count": 24,
   "id": "e774f1e4-9fa8-41c6-9ef5-f77714890ad1",
   "metadata": {},
   "outputs": [
    {
     "data": {
      "text/plain": [
       "7.161694915254236"
      ]
     },
     "execution_count": 24,
     "metadata": {},
     "output_type": "execute_result"
    }
   ],
   "source": [
    "df['Shipment Item Subtotal Tax'].mean()"
   ]
  },
  {
   "cell_type": "code",
   "execution_count": 25,
   "id": "9bb35b85-1787-48a6-babc-405cc5bb731c",
   "metadata": {},
   "outputs": [
    {
     "data": {
      "text/plain": [
       "25.838489566330768"
      ]
     },
     "execution_count": 25,
     "metadata": {},
     "output_type": "execute_result"
    }
   ],
   "source": [
    "(df['Shipment Item Subtotal Tax'].sum() / df['Total Owed'].sum()) * 100"
   ]
  },
  {
   "cell_type": "code",
   "execution_count": 26,
   "id": "617380bd-4b68-4163-8a0d-8881056a99dc",
   "metadata": {},
   "outputs": [
    {
     "data": {
      "text/plain": [
       "<Axes: title={'center': 'Annual Amazon Spend'}, xlabel='Year', ylabel='$ Spent'>"
      ]
     },
     "execution_count": 26,
     "metadata": {},
     "output_type": "execute_result"
    },
    {
     "data": {
      "image/png": "[encoded data removed]",
      "text/plain": [
       "<Figure size 640x480 with 1 Axes>"
      ]
     },
     "metadata": {},
     "output_type": "display_data"
    }
   ],
   "source": [
    "by_year = df.groupby(df['Order Date'].dt.year)[['Total Owed', 'Unit Price Tax']].sum()\n",
    "by_year.plot(kind='bar', xlabel='Year', ylabel='$ Spent', legend=True, title='Annual Amazon Spend')"
   ]
  },
  {
   "cell_type": "code",
   "execution_count": 28,
   "id": "49ecad24-4ded-44cb-915a-b65fc0122281",
   "metadata": {},
   "outputs": [
    {
     "data": {
      "text/plain": [
       "<Axes: xlabel='Order Date', ylabel='Total Owed'>"
      ]
     },
     "execution_count": 28,
     "metadata": {},
     "output_type": "execute_result"
    },
    {
     "data": {
      "image/png": "[encoded data removed]",
      "text/plain": [
       "<Figure size 640x480 with 1 Axes>"
      ]
     },
     "metadata": {},
     "output_type": "display_data"
    }
   ],
   "source": [
    "by_week = df.groupby([pd.Grouper(key='Order Date', freq='M'), \"Website\"])['Total Owed'].sum().reset_index()\n",
    "\n",
    "sns.lineplot(data=by_week, x='Order Date', y='Total Owed', hue='Website')"
   ]
  },
  {
   "cell_type": "code",
   "execution_count": 33,
   "id": "3c5f3d4f-5950-460c-8dcb-0ce4ecb92fb8",
   "metadata": {},
   "outputs": [
    {
     "data": {
      "text/plain": [
       "0     25.47\n",
       "1      0.00\n",
       "2      2.24\n",
       "3      6.99\n",
       "4      4.29\n",
       "5     25.47\n",
       "6      4.99\n",
       "7      2.66\n",
       "8      5.39\n",
       "9      7.99\n",
       "10     7.99\n",
       "Name: Total Owed, dtype: float64"
      ]
     },
     "execution_count": 33,
     "metadata": {},
     "output_type": "execute_result"
    }
   ],
   "source": [
    "df.loc[:10, 'Total Owed']"
   ]
  },
  {
   "cell_type": "code",
   "execution_count": 24,
   "id": "2f38f666-9828-4e7f-953e-c16880c1ff91",
   "metadata": {},
   "outputs": [
    {
     "data": {
      "text/plain": [
       "0    25.47\n",
       "1     0.00\n",
       "2     2.24\n",
       "3     6.99\n",
       "4     4.29\n",
       "5    25.47\n",
       "6     4.99\n",
       "7     2.66\n",
       "8     5.39\n",
       "9     7.99\n",
       "Name: Total Owed, dtype: float64"
      ]
     },
     "execution_count": 24,
     "metadata": {},
     "output_type": "execute_result"
    }
   ],
   "source": [
    "df.iloc[:10, 9]"
   ]
  },
  {
   "cell_type": "code",
   "execution_count": 34,
   "id": "503285d2-dc84-4a9f-bc6c-886ebacc5212",
   "metadata": {},
   "outputs": [
    {
     "data": {
      "text/html": [
       "<div>\n",
       "<style scoped>\n",
       "    .dataframe tbody tr th:only-of-type {\n",
       "        vertical-align: middle;\n",
       "    }\n",
       "\n",
       "    .dataframe tbody tr th {\n",
       "        vertical-align: top;\n",
       "    }\n",
       "\n",
       "    .dataframe thead th {\n",
       "        text-align: right;\n",
       "    }\n",
       "</style>\n",
       "<table border=\"1\" class=\"dataframe\">\n",
       "  <thead>\n",
       "    <tr style=\"text-align: right;\">\n",
       "      <th></th>\n",
       "      <th>Unit Price Tax</th>\n",
       "      <th>Shipping Charge</th>\n",
       "      <th>Total Owed</th>\n",
       "      <th>Quantity</th>\n",
       "    </tr>\n",
       "  </thead>\n",
       "  <tbody>\n",
       "    <tr>\n",
       "      <th>count</th>\n",
       "      <td>782.000000</td>\n",
       "      <td>782.000000</td>\n",
       "      <td>782.000000</td>\n",
       "      <td>782.000000</td>\n",
       "    </tr>\n",
       "    <tr>\n",
       "      <th>mean</th>\n",
       "      <td>2.818568</td>\n",
       "      <td>0.492442</td>\n",
       "      <td>27.185499</td>\n",
       "      <td>1.046036</td>\n",
       "    </tr>\n",
       "    <tr>\n",
       "      <th>std</th>\n",
       "      <td>19.419664</td>\n",
       "      <td>3.987377</td>\n",
       "      <td>141.424500</td>\n",
       "      <td>0.361995</td>\n",
       "    </tr>\n",
       "    <tr>\n",
       "      <th>min</th>\n",
       "      <td>0.000000</td>\n",
       "      <td>0.000000</td>\n",
       "      <td>0.000000</td>\n",
       "      <td>0.000000</td>\n",
       "    </tr>\n",
       "    <tr>\n",
       "      <th>25%</th>\n",
       "      <td>0.000000</td>\n",
       "      <td>0.000000</td>\n",
       "      <td>2.590000</td>\n",
       "      <td>1.000000</td>\n",
       "    </tr>\n",
       "    <tr>\n",
       "      <th>50%</th>\n",
       "      <td>0.000000</td>\n",
       "      <td>0.000000</td>\n",
       "      <td>4.490000</td>\n",
       "      <td>1.000000</td>\n",
       "    </tr>\n",
       "    <tr>\n",
       "      <th>75%</th>\n",
       "      <td>0.090000</td>\n",
       "      <td>0.000000</td>\n",
       "      <td>7.990000</td>\n",
       "      <td>1.000000</td>\n",
       "    </tr>\n",
       "    <tr>\n",
       "      <th>max</th>\n",
       "      <td>255.860000</td>\n",
       "      <td>66.000000</td>\n",
       "      <td>1870.390000</td>\n",
       "      <td>5.000000</td>\n",
       "    </tr>\n",
       "  </tbody>\n",
       "</table>\n",
       "</div>"
      ],
      "text/plain": [
       "       Unit Price Tax  Shipping Charge   Total Owed    Quantity\n",
       "count      782.000000       782.000000   782.000000  782.000000\n",
       "mean         2.818568         0.492442    27.185499    1.046036\n",
       "std         19.419664         3.987377   141.424500    0.361995\n",
       "min          0.000000         0.000000     0.000000    0.000000\n",
       "25%          0.000000         0.000000     2.590000    1.000000\n",
       "50%          0.000000         0.000000     4.490000    1.000000\n",
       "75%          0.090000         0.000000     7.990000    1.000000\n",
       "max        255.860000        66.000000  1870.390000    5.000000"
      ]
     },
     "execution_count": 34,
     "metadata": {},
     "output_type": "execute_result"
    }
   ],
   "source": [
    "df.describe()"
   ]
  },
  {
   "cell_type": "code",
   "execution_count": null,
   "id": "16af9574-cf48-4b7a-b8e9-ab64bcdbe85a",
   "metadata": {},
   "outputs": [],
   "source": []
  }
 ],
 "metadata": {
  "kernelspec": {
   "display_name": "Python 3 (ipykernel)",
   "language": "python",
   "name": "python3"
  },
  "language_info": {
   "codemirror_mode": {
    "name": "ipython",
    "version": 3
   },
   "file_extension": ".py",
   "mimetype": "text/x-python",
   "name": "python",
   "nbconvert_exporter": "python",
   "pygments_lexer": "ipython3",
   "version": "3.10.7"
  }
 },
 "nbformat": 4,
 "nbformat_minor": 5
}

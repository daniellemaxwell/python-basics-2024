{
 "cells": [
  {
   "cell_type": "code",
   "execution_count": 221,
   "id": "67fee6ee-50d2-4216-b74b-422e9e784b6b",
   "metadata": {},
   "outputs": [],
   "source": [
    "# Strings"
   ]
  },
  {
   "cell_type": "code",
   "execution_count": 222,
   "id": "b549548f-c1cf-45bf-b050-0332bed4ee5d",
   "metadata": {},
   "outputs": [],
   "source": [
    "# Strings can be enclosed inside single quote.\n",
    "name = 'Danielle'"
   ]
  },
  {
   "cell_type": "code",
   "execution_count": 223,
   "id": "d4d50268-7b76-43d6-ad82-e266a24cb614",
   "metadata": {},
   "outputs": [
    {
     "name": "stdout",
     "output_type": "stream",
     "text": [
      "Danielle\n"
     ]
    }
   ],
   "source": [
    "print(name)"
   ]
  },
  {
   "cell_type": "code",
   "execution_count": 224,
   "id": "c30961bd-d3e2-46dc-82c5-cb37f9ce5148",
   "metadata": {},
   "outputs": [
    {
     "data": {
      "text/plain": [
       "str"
      ]
     },
     "execution_count": 224,
     "metadata": {},
     "output_type": "execute_result"
    }
   ],
   "source": [
    "# Print the name variable's type\n",
    "type(name)"
   ]
  },
  {
   "cell_type": "code",
   "execution_count": 225,
   "id": "e54f6a28-a61e-47fc-8730-125baba468c0",
   "metadata": {},
   "outputs": [],
   "source": [
    "# The value assigned to the variable name can be changed\n",
    "name = 'Ryan'"
   ]
  },
  {
   "cell_type": "code",
   "execution_count": 226,
   "id": "deaeb644-7553-41ef-a4e0-91ccba1b6e4a",
   "metadata": {},
   "outputs": [
    {
     "name": "stdout",
     "output_type": "stream",
     "text": [
      "Ryan\n"
     ]
    }
   ],
   "source": [
    "print(name)"
   ]
  },
  {
   "cell_type": "code",
   "execution_count": 227,
   "id": "a60b040f-53fc-426f-9dbc-a0390b36fd11",
   "metadata": {},
   "outputs": [],
   "source": [
    "name2 = 'Danielle'"
   ]
  },
  {
   "cell_type": "code",
   "execution_count": 228,
   "id": "f8ec9f5f-7efb-4ba7-995e-8315bdb752ed",
   "metadata": {},
   "outputs": [
    {
     "name": "stdout",
     "output_type": "stream",
     "text": [
      "Ryan\n"
     ]
    }
   ],
   "source": [
    "print(name)"
   ]
  },
  {
   "cell_type": "code",
   "execution_count": 229,
   "id": "f4716123-3df4-4b46-93dd-45f7c5629b72",
   "metadata": {},
   "outputs": [
    {
     "name": "stdout",
     "output_type": "stream",
     "text": [
      "Danielle\n"
     ]
    }
   ],
   "source": [
    "print(name2)"
   ]
  },
  {
   "cell_type": "code",
   "execution_count": 230,
   "id": "631f6e74-0cbf-4d00-a1b5-53df2f26ef63",
   "metadata": {},
   "outputs": [],
   "source": [
    "# Strings can also be enclosed inside double quotes.\n",
    "string1 = \"Welcome to Python Basics for Summer 2024\""
   ]
  },
  {
   "cell_type": "code",
   "execution_count": 231,
   "id": "58be89e6-bbc9-4828-94c1-16cb355e4b6d",
   "metadata": {},
   "outputs": [],
   "source": [
    "# If a single quote will appear inside a string, it is common to use double quotes around the string.\n",
    "string2 = \"It's hot outside\""
   ]
  },
  {
   "cell_type": "code",
   "execution_count": 232,
   "id": "1e019865-36ca-40ce-a048-2169d3cff12c",
   "metadata": {},
   "outputs": [],
   "source": [
    "# It is possible to use an escape character (\\) by adding it before a single quote inside a string that's wrapped in single quotes.\n",
    "string3 = 'It\\'s hot outside'"
   ]
  },
  {
   "cell_type": "code",
   "execution_count": 233,
   "id": "f69caad2-cc99-4bfc-891d-d888c4d62ffb",
   "metadata": {},
   "outputs": [
    {
     "name": "stdout",
     "output_type": "stream",
     "text": [
      "40\n"
     ]
    }
   ],
   "source": [
    "# The len() method may be called to get the total number of elements in a string.\n",
    "print(len(string1))"
   ]
  },
  {
   "cell_type": "code",
   "execution_count": 234,
   "id": "868cd285-6f93-45c2-80b0-ed4bb95d7da3",
   "metadata": {},
   "outputs": [
    {
     "name": "stdout",
     "output_type": "stream",
     "text": [
      "W\n"
     ]
    }
   ],
   "source": [
    "# Get the element at the 0 index in string1.\n",
    "print(string1[0])"
   ]
  },
  {
   "cell_type": "code",
   "execution_count": 235,
   "id": "d46c93e3-73ed-4b57-80d8-edc185d32a20",
   "metadata": {},
   "outputs": [
    {
     "name": "stdout",
     "output_type": "stream",
     "text": [
      "come \n"
     ]
    }
   ],
   "source": [
    "# Use slice to get print the elements from index 3 to 7.\n",
    "print(string1[3:8])"
   ]
  },
  {
   "cell_type": "code",
   "execution_count": 236,
   "id": "2b73fc43-e15e-4209-bac4-1cef5b7cc923",
   "metadata": {},
   "outputs": [
    {
     "name": "stdout",
     "output_type": "stream",
     "text": [
      "Python \n"
     ]
    }
   ],
   "source": [
    "# Print the word Python from the string1 slice.\n",
    "print(string1[11:18])"
   ]
  },
  {
   "cell_type": "code",
   "execution_count": 237,
   "id": "780b9620-4d6d-47aa-b203-771c79fa80fc",
   "metadata": {},
   "outputs": [
    {
     "name": "stdout",
     "output_type": "stream",
     "text": [
      "4\n"
     ]
    }
   ],
   "source": [
    "# Get the last element in string1.\n",
    "print(string1[-1])"
   ]
  },
  {
   "cell_type": "code",
   "execution_count": 238,
   "id": "be601762-fdc4-4699-99b8-17e0df6d863b",
   "metadata": {},
   "outputs": [
    {
     "name": "stdout",
     "output_type": "stream",
     "text": [
      "r\n"
     ]
    }
   ],
   "source": [
    "# Print the element that's 6 indices away from the last element.\n",
    "print(string1[-6])"
   ]
  },
  {
   "cell_type": "code",
   "execution_count": 239,
   "id": "f72fc8b8-bb93-4385-838a-4893c3c6b6a7",
   "metadata": {},
   "outputs": [],
   "source": [
    "# Use the split() method to convert a string to a list.\n",
    "split_string = string1.split()"
   ]
  },
  {
   "cell_type": "code",
   "execution_count": 240,
   "id": "0ac0f3ef-7ab9-4ad2-af2b-6aeca0f15a9e",
   "metadata": {},
   "outputs": [
    {
     "name": "stdout",
     "output_type": "stream",
     "text": [
      "['Welcome', 'to', 'Python', 'Basics', 'for', 'Summer', '2024']\n"
     ]
    }
   ],
   "source": [
    "print(split_string)"
   ]
  },
  {
   "cell_type": "code",
   "execution_count": 241,
   "id": "9fbdbc69-43c7-45fa-93a4-60860c3b9c67",
   "metadata": {},
   "outputs": [
    {
     "name": "stdout",
     "output_type": "stream",
     "text": [
      "RYAN\n"
     ]
    }
   ],
   "source": [
    "# Use the upper() method to change a string's case to uppercase.\n",
    "print(name.upper())"
   ]
  },
  {
   "cell_type": "code",
   "execution_count": 242,
   "id": "449fa051-db92-40aa-8f7c-1801be8f2b01",
   "metadata": {},
   "outputs": [
    {
     "name": "stdout",
     "output_type": "stream",
     "text": [
      "danielle\n"
     ]
    }
   ],
   "source": [
    "# Use the lower() method ot change a string's case to lowercase.\n",
    "print(name2.lower())"
   ]
  },
  {
   "cell_type": "code",
   "execution_count": 243,
   "id": "ba1f23fd-18a0-4dea-bc72-1c7244d02676",
   "metadata": {
    "scrolled": true
   },
   "outputs": [
    {
     "name": "stdout",
     "output_type": "stream",
     "text": [
      "3\n"
     ]
    }
   ],
   "source": [
    "# Use the count() method to print the number of times 'e' appears in string1.\n",
    "print(string1.count('e'))"
   ]
  },
  {
   "cell_type": "code",
   "execution_count": 244,
   "id": "42d3ecba-6d36-4e9e-9f6c-e9ac96b8e50b",
   "metadata": {},
   "outputs": [
    {
     "name": "stdout",
     "output_type": "stream",
     "text": [
      "False\n"
     ]
    }
   ],
   "source": [
    "# Use the startswith() method to confirm if string1 begins with 'a'.\n",
    "print(string1.startswith('a'))"
   ]
  },
  {
   "cell_type": "code",
   "execution_count": 245,
   "id": "d0ca2ddc-a218-4ca4-928a-20946976c8b6",
   "metadata": {},
   "outputs": [
    {
     "name": "stdout",
     "output_type": "stream",
     "text": [
      "True\n"
     ]
    }
   ],
   "source": [
    "# Use the startswith() method to confirm if string1 begins with 'W'.\n",
    "print(string1.startswith('W'))"
   ]
  },
  {
   "cell_type": "code",
   "execution_count": 246,
   "id": "a3e7c756-02bb-4110-bdac-41295f46d358",
   "metadata": {},
   "outputs": [
    {
     "name": "stdout",
     "output_type": "stream",
     "text": [
      "<class 'list'>\n"
     ]
    }
   ],
   "source": [
    "# Print the type for split_string.\n",
    "print(type(split_string))"
   ]
  },
  {
   "cell_type": "code",
   "execution_count": 247,
   "id": "e6592d4c-772c-44e8-8d78-536cc8957778",
   "metadata": {},
   "outputs": [],
   "source": [
    "# Lists"
   ]
  },
  {
   "cell_type": "code",
   "execution_count": 248,
   "id": "a8bddad8-4ef5-49a9-ad4d-9c52b66ce65a",
   "metadata": {},
   "outputs": [],
   "source": [
    "list1 = [1, 2, 3, 4, 5]"
   ]
  },
  {
   "cell_type": "code",
   "execution_count": 249,
   "id": "41fa45bb-f076-4589-ae43-3a683ead1d0c",
   "metadata": {},
   "outputs": [],
   "source": [
    "# Nested lists can appear inside a list.\n",
    "list2 = [1, 2, [3,4], 5]"
   ]
  },
  {
   "cell_type": "code",
   "execution_count": 250,
   "id": "a1f39ee5-9c52-451a-9e68-b72297838740",
   "metadata": {},
   "outputs": [
    {
     "name": "stdout",
     "output_type": "stream",
     "text": [
      "3\n"
     ]
    }
   ],
   "source": [
    "# Print the items that appears at the 2nd index of list1.\n",
    "print(list1[2])"
   ]
  },
  {
   "cell_type": "code",
   "execution_count": 251,
   "id": "4f209ed9-57fb-4410-9935-a815836ebb23",
   "metadata": {},
   "outputs": [
    {
     "name": "stdout",
     "output_type": "stream",
     "text": [
      "[3, 4]\n"
     ]
    }
   ],
   "source": [
    "# Print the nested list in list2.\n",
    "print(list2[2])"
   ]
  },
  {
   "cell_type": "code",
   "execution_count": 252,
   "id": "a63b7492-f135-47db-bcb7-5ab9ae5302a2",
   "metadata": {},
   "outputs": [
    {
     "name": "stdout",
     "output_type": "stream",
     "text": [
      "3\n"
     ]
    }
   ],
   "source": [
    "# Print the number 3 from list2.\n",
    "print(list2[2][0])"
   ]
  },
  {
   "cell_type": "code",
   "execution_count": 253,
   "id": "61b4b880-844f-4fb9-abb6-ac2d8e536090",
   "metadata": {},
   "outputs": [
    {
     "name": "stdout",
     "output_type": "stream",
     "text": [
      "4\n"
     ]
    }
   ],
   "source": [
    "# Print the number 4 from list2.\n",
    "print(list2[2][1])"
   ]
  },
  {
   "cell_type": "code",
   "execution_count": 254,
   "id": "bc91bc45-2070-4204-94cd-13de50ab5c91",
   "metadata": {},
   "outputs": [
    {
     "name": "stdout",
     "output_type": "stream",
     "text": [
      "[2, 3]\n"
     ]
    }
   ],
   "source": [
    "# Slicing can also be used for lists.\n",
    "print(list1[1:3])"
   ]
  },
  {
   "cell_type": "code",
   "execution_count": 255,
   "id": "501fe9d7-b1a1-4aa8-874b-348896adf2cf",
   "metadata": {},
   "outputs": [
    {
     "name": "stdout",
     "output_type": "stream",
     "text": [
      "5\n"
     ]
    }
   ],
   "source": [
    "# Print the last item in list2.\n",
    "print(list2[-1])"
   ]
  },
  {
   "cell_type": "code",
   "execution_count": 256,
   "id": "da3299d8-4102-4d8d-91b2-e572d56abafe",
   "metadata": {},
   "outputs": [
    {
     "name": "stdout",
     "output_type": "stream",
     "text": [
      "5\n"
     ]
    }
   ],
   "source": [
    "print(list2[-1])"
   ]
  },
  {
   "cell_type": "code",
   "execution_count": 257,
   "id": "82d05591-18bf-414c-8a92-7225876165ba",
   "metadata": {},
   "outputs": [],
   "source": [
    "# Multiple data types may be stored inside a list.\n",
    "list3 = ['name', 'age', 3, 10]"
   ]
  },
  {
   "cell_type": "code",
   "execution_count": 258,
   "id": "3a3d2923-fd21-499c-be7d-a7535f0bb0bc",
   "metadata": {},
   "outputs": [],
   "source": [
    "# Assign a copy of list3 to list4.\n",
    "list4 = list3"
   ]
  },
  {
   "cell_type": "code",
   "execution_count": 259,
   "id": "ce77b1e5-f1b1-4ec2-bbfe-fd37df40cb1a",
   "metadata": {},
   "outputs": [
    {
     "name": "stdout",
     "output_type": "stream",
     "text": [
      "['name', 'age', 3, 10]\n"
     ]
    }
   ],
   "source": [
    "print(list4)"
   ]
  },
  {
   "cell_type": "code",
   "execution_count": 260,
   "id": "fe50ca86-71f4-4efc-820c-82407d4a304d",
   "metadata": {},
   "outputs": [
    {
     "name": "stdout",
     "output_type": "stream",
     "text": [
      "['name', 'age', 3, 10, 20]\n"
     ]
    }
   ],
   "source": [
    "# Use the append method to add 20 to list4. List4 is not a new list, so appending 20 will change list3.\n",
    "list4.append(20)\n",
    "print(list4)"
   ]
  },
  {
   "cell_type": "code",
   "execution_count": 261,
   "id": "6cc38ba9-6fc8-44b9-9be5-4932e105a2a1",
   "metadata": {},
   "outputs": [
    {
     "name": "stdout",
     "output_type": "stream",
     "text": [
      "['name', 'age', 3, 10, 20]\n"
     ]
    }
   ],
   "source": [
    "print(list3)"
   ]
  },
  {
   "cell_type": "code",
   "execution_count": 262,
   "id": "a78e4cd6-4c5f-4a88-87bd-abeb71f256f5",
   "metadata": {},
   "outputs": [],
   "source": [
    "# It's best to slice the items in list3 to create a copy.\n",
    "list5 = list3[:]"
   ]
  },
  {
   "cell_type": "code",
   "execution_count": 263,
   "id": "5ecc5f83-7a47-49c6-8a51-964ef54b2654",
   "metadata": {},
   "outputs": [
    {
     "name": "stdout",
     "output_type": "stream",
     "text": [
      "['name', 'age', 3, 10, 20]\n"
     ]
    }
   ],
   "source": [
    "print(list5)"
   ]
  },
  {
   "cell_type": "code",
   "execution_count": 264,
   "id": "8301431e-c2d1-4b55-803e-f0039c4e3d83",
   "metadata": {},
   "outputs": [],
   "source": [
    "# Use append to add 'josh' to list5. Since list5 is a new list, this change will not alter list3.\n",
    "list5.append('josh')"
   ]
  },
  {
   "cell_type": "code",
   "execution_count": 265,
   "id": "3baea22c-7475-49df-a723-ac7158284bb1",
   "metadata": {},
   "outputs": [
    {
     "name": "stdout",
     "output_type": "stream",
     "text": [
      "['name', 'age', 3, 10, 20, 'josh']\n"
     ]
    }
   ],
   "source": [
    "print(list5)"
   ]
  },
  {
   "cell_type": "code",
   "execution_count": 266,
   "id": "e47d581a-1526-4b0f-84f2-a55d8a507184",
   "metadata": {},
   "outputs": [
    {
     "name": "stdout",
     "output_type": "stream",
     "text": [
      "['name', 'age', 3, 10, 20]\n"
     ]
    }
   ],
   "source": [
    "print(list3)"
   ]
  },
  {
   "cell_type": "code",
   "execution_count": 267,
   "id": "55daf948-39f7-4ee2-856a-3b8ddb23c264",
   "metadata": {},
   "outputs": [
    {
     "name": "stdout",
     "output_type": "stream",
     "text": [
      "josh\n"
     ]
    }
   ],
   "source": [
    "# Remove the last element from list5.\n",
    "print(list5.pop())"
   ]
  },
  {
   "cell_type": "code",
   "execution_count": 268,
   "id": "43f68bb0-0763-4b63-ae63-56bc8b9e66c7",
   "metadata": {},
   "outputs": [
    {
     "name": "stdout",
     "output_type": "stream",
     "text": [
      "['name', 'age', 3, 10, 20]\n"
     ]
    }
   ],
   "source": [
    "print(list5)"
   ]
  },
  {
   "cell_type": "code",
   "execution_count": 269,
   "id": "66ba9238-7f86-4220-86a4-c7fe4f333440",
   "metadata": {},
   "outputs": [
    {
     "name": "stdout",
     "output_type": "stream",
     "text": [
      "3\n"
     ]
    }
   ],
   "source": [
    "# It is possible to specify the index of a list item to be removed in the pop() method.\n",
    "print(list5.pop(2))"
   ]
  },
  {
   "cell_type": "code",
   "execution_count": 270,
   "id": "7c3128c9-c6e5-4070-80bd-135d8206ea61",
   "metadata": {},
   "outputs": [],
   "source": [
    "# Dictionary"
   ]
  },
  {
   "cell_type": "code",
   "execution_count": 271,
   "id": "736af269-35c9-4559-99b8-bc9f094847a7",
   "metadata": {},
   "outputs": [],
   "source": [
    "dict1 = {\"name\": \"Danielle\", \"city\": \"Atlanta\", \"role\": \"developer\", \"color\": \"blue\"}"
   ]
  },
  {
   "cell_type": "code",
   "execution_count": 272,
   "id": "0c9a112f-0019-4169-80f1-d212a0aace1e",
   "metadata": {},
   "outputs": [
    {
     "data": {
      "text/plain": [
       "'Danielle'"
      ]
     },
     "execution_count": 272,
     "metadata": {},
     "output_type": "execute_result"
    }
   ],
   "source": [
    "# Get the value mapped to the \"name\" key.\n",
    "dict1[\"name\"]"
   ]
  },
  {
   "cell_type": "code",
   "execution_count": 273,
   "id": "6ebd0dce-a9ea-479b-a5dd-78cc509cd107",
   "metadata": {},
   "outputs": [
    {
     "data": {
      "text/plain": [
       "'developer'"
      ]
     },
     "execution_count": 273,
     "metadata": {},
     "output_type": "execute_result"
    }
   ],
   "source": [
    "# Get the value mapped to the \"role\" key.\n",
    "dict1[\"role\"]"
   ]
  },
  {
   "cell_type": "code",
   "execution_count": 274,
   "id": "20b69ade-dea9-4c28-bce4-0a9c960f0ed2",
   "metadata": {},
   "outputs": [
    {
     "data": {
      "text/plain": [
       "dict_keys(['name', 'city', 'role', 'color'])"
      ]
     },
     "execution_count": 274,
     "metadata": {},
     "output_type": "execute_result"
    }
   ],
   "source": [
    "# Use the keys method to print all of the keys in dict1.\n",
    "dict1.keys()"
   ]
  },
  {
   "cell_type": "code",
   "execution_count": 275,
   "id": "20d891a2-b71e-46dc-b434-b0538b129121",
   "metadata": {},
   "outputs": [
    {
     "data": {
      "text/plain": [
       "dict_values(['Danielle', 'Atlanta', 'developer', 'blue'])"
      ]
     },
     "execution_count": 275,
     "metadata": {},
     "output_type": "execute_result"
    }
   ],
   "source": [
    "# Use the keys method to print all of the values in dict1.\n",
    "dict1.values()"
   ]
  },
  {
   "cell_type": "code",
   "execution_count": 276,
   "id": "ea7e9f15-dd1a-464d-b178-95d8da33225f",
   "metadata": {},
   "outputs": [],
   "source": [
    "# Add a new key/value pair to dict1.\n",
    "dict1[\"language\"] = \"python\""
   ]
  },
  {
   "cell_type": "code",
   "execution_count": 277,
   "id": "6410ce60-5254-4331-ae21-df83cdc885d8",
   "metadata": {},
   "outputs": [
    {
     "name": "stdout",
     "output_type": "stream",
     "text": [
      "{'name': 'Danielle', 'city': 'Atlanta', 'role': 'developer', 'color': 'blue', 'language': 'python'}\n"
     ]
    }
   ],
   "source": [
    "print(dict1)"
   ]
  },
  {
   "cell_type": "code",
   "execution_count": 278,
   "id": "2feb197f-be4b-49b0-acc6-32f921b78f50",
   "metadata": {},
   "outputs": [],
   "source": [
    "# Delete Atlanta from dict1.\n",
    "del dict1[\"city\"]"
   ]
  },
  {
   "cell_type": "code",
   "execution_count": 279,
   "id": "0f764868-465b-4342-8f0e-d413afbac8cd",
   "metadata": {},
   "outputs": [
    {
     "name": "stdout",
     "output_type": "stream",
     "text": [
      "{'name': 'Danielle', 'role': 'developer', 'color': 'blue', 'language': 'python'}\n"
     ]
    }
   ],
   "source": [
    "print(dict1)"
   ]
  },
  {
   "cell_type": "code",
   "execution_count": 280,
   "id": "7dc41bfd-a0a9-4e60-b274-a46a395ccd27",
   "metadata": {},
   "outputs": [],
   "source": [
    "# Use the copy() method to create a copy of dict1 and assign it to dict2.\n",
    "dict2 = dict1.copy()"
   ]
  },
  {
   "cell_type": "code",
   "execution_count": 281,
   "id": "5c5423a2-2a15-4082-99e7-8c5792c85067",
   "metadata": {},
   "outputs": [
    {
     "name": "stdout",
     "output_type": "stream",
     "text": [
      "{'name': 'Danielle', 'role': 'developer', 'color': 'blue', 'language': 'python'}\n"
     ]
    }
   ],
   "source": [
    "print(dict2)"
   ]
  },
  {
   "cell_type": "code",
   "execution_count": 282,
   "id": "33eef8bf-e27d-4df2-a943-faebf44552eb",
   "metadata": {},
   "outputs": [],
   "source": [
    "# Add city to dict2.\n",
    "dict2[\"city\"] = \"Atlanta\""
   ]
  },
  {
   "cell_type": "code",
   "execution_count": 283,
   "id": "d7aaa36a-e3b7-4f18-a702-218d5808cfb4",
   "metadata": {},
   "outputs": [
    {
     "name": "stdout",
     "output_type": "stream",
     "text": [
      "{'name': 'Danielle', 'role': 'developer', 'color': 'blue', 'language': 'python', 'city': 'Atlanta'}\n"
     ]
    }
   ],
   "source": [
    "print(dict2)"
   ]
  },
  {
   "cell_type": "code",
   "execution_count": 284,
   "id": "ff067cf9-b167-4b6b-a9e9-1ee3b3be8f65",
   "metadata": {},
   "outputs": [],
   "source": [
    "# Tuples"
   ]
  },
  {
   "cell_type": "code",
   "execution_count": 285,
   "id": "bb5096af-08b4-4353-8236-74bc0d018279",
   "metadata": {},
   "outputs": [],
   "source": [
    "# Tuples are similar to lists, but they are enclosed in parenthesis. They also cannot be modified.\n",
    "tuple1 = ('a', 'b', 'c', 'd', 'e')"
   ]
  },
  {
   "cell_type": "code",
   "execution_count": 286,
   "id": "33ae616b-4169-4ab0-906c-1a60bd84abe9",
   "metadata": {},
   "outputs": [
    {
     "data": {
      "text/plain": [
       "'a'"
      ]
     },
     "execution_count": 286,
     "metadata": {},
     "output_type": "execute_result"
    }
   ],
   "source": [
    "# Indexing also works with tuples.\n",
    "tuple1[0]"
   ]
  },
  {
   "cell_type": "code",
   "execution_count": 287,
   "id": "9cadf80b-a05a-49f0-bba0-d2b0d523dd6e",
   "metadata": {},
   "outputs": [
    {
     "data": {
      "text/plain": [
       "'e'"
      ]
     },
     "execution_count": 287,
     "metadata": {},
     "output_type": "execute_result"
    }
   ],
   "source": [
    "# Get the last item in tuple1.\n",
    "tuple1[-1]"
   ]
  },
  {
   "cell_type": "code",
   "execution_count": 288,
   "id": "3621ecf7-8027-4711-9aa6-841f8c5e702f",
   "metadata": {},
   "outputs": [
    {
     "data": {
      "text/plain": [
       "('b',)"
      ]
     },
     "execution_count": 288,
     "metadata": {},
     "output_type": "execute_result"
    }
   ],
   "source": [
    "# Slicing may also be used with tuples.\n",
    "tuple1[1:2]"
   ]
  },
  {
   "cell_type": "code",
   "execution_count": 289,
   "id": "793d9c76-43f6-4886-9c19-d6ccc5b32fda",
   "metadata": {},
   "outputs": [
    {
     "data": {
      "text/plain": [
       "('b', 'c')"
      ]
     },
     "execution_count": 289,
     "metadata": {},
     "output_type": "execute_result"
    }
   ],
   "source": [
    "tuple1[1:3]"
   ]
  },
  {
   "cell_type": "code",
   "execution_count": 290,
   "id": "ae49e090-f122-42be-8919-7d4749879e2b",
   "metadata": {},
   "outputs": [],
   "source": [
    "# Sets"
   ]
  },
  {
   "cell_type": "code",
   "execution_count": 291,
   "id": "143c20ed-7aee-4ee6-a1d2-52f7bfdad0cd",
   "metadata": {},
   "outputs": [],
   "source": [
    "set1 = {1, 2, 3, 4, 4}"
   ]
  },
  {
   "cell_type": "code",
   "execution_count": 292,
   "id": "f230b32d-e129-42e7-86b4-fab772fa672c",
   "metadata": {},
   "outputs": [
    {
     "name": "stdout",
     "output_type": "stream",
     "text": [
      "{1, 2, 3, 4}\n"
     ]
    }
   ],
   "source": [
    "# Sets will only display unique values.\n",
    "print(set1)"
   ]
  },
  {
   "cell_type": "code",
   "execution_count": 293,
   "id": "6782f14f-e062-458b-b5a2-aab7b4cd98cf",
   "metadata": {},
   "outputs": [],
   "source": [
    "# Functions"
   ]
  },
  {
   "cell_type": "code",
   "execution_count": 1,
   "id": "80231539-8908-41ef-9007-72f82a0d5fbb",
   "metadata": {},
   "outputs": [],
   "source": [
    "# Write a function that adds two numbers\n",
    "def add_two(num1, num2):\n",
    "    print(num1 + num2)"
   ]
  },
  {
   "cell_type": "code",
   "execution_count": 4,
   "id": "dbe2dff2-2977-4c13-b0ef-d66c95668191",
   "metadata": {},
   "outputs": [
    {
     "name": "stdout",
     "output_type": "stream",
     "text": [
      "9\n"
     ]
    }
   ],
   "source": [
    "add_two(5, 4)"
   ]
  },
  {
   "cell_type": "code",
   "execution_count": 296,
   "id": "1680d18e-4525-4569-b973-8d010c1231a6",
   "metadata": {},
   "outputs": [
    {
     "name": "stdout",
     "output_type": "stream",
     "text": [
      "45\n",
      "None\n"
     ]
    }
   ],
   "source": [
    "# A function without a return statement is called a void function\n",
    "print(add_two(5, 40))"
   ]
  },
  {
   "cell_type": "code",
   "execution_count": 297,
   "id": "504ba8e4-2f0a-457e-8abb-3b5eaacfb0eb",
   "metadata": {},
   "outputs": [
    {
     "name": "stdout",
     "output_type": "stream",
     "text": [
      "45\n"
     ]
    },
    {
     "data": {
      "text/plain": [
       "NoneType"
      ]
     },
     "execution_count": 297,
     "metadata": {},
     "output_type": "execute_result"
    }
   ],
   "source": [
    "type(add_two(5, 40))"
   ]
  },
  {
   "cell_type": "code",
   "execution_count": 298,
   "id": "23d8b486-7bf8-48c7-8ef2-235829e9c2ae",
   "metadata": {},
   "outputs": [],
   "source": [
    "# Write a function that multiplies two numbers\n",
    "def multiply_two(num1, num2):\n",
    "    return num1 * num2"
   ]
  },
  {
   "cell_type": "code",
   "execution_count": 299,
   "id": "c3a886cb-a9c9-440a-a9e1-9dca0f1123d3",
   "metadata": {},
   "outputs": [
    {
     "data": {
      "text/plain": [
       "28"
      ]
     },
     "execution_count": 299,
     "metadata": {},
     "output_type": "execute_result"
    }
   ],
   "source": [
    "multiply_two(4, 7)"
   ]
  },
  {
   "cell_type": "code",
   "execution_count": 300,
   "id": "e4a2a9a5-16c8-4eed-b119-5bfa1edc6605",
   "metadata": {},
   "outputs": [
    {
     "name": "stdout",
     "output_type": "stream",
     "text": [
      "28\n"
     ]
    }
   ],
   "source": [
    "print(multiply_two(4, 7))"
   ]
  },
  {
   "cell_type": "code",
   "execution_count": 301,
   "id": "72438b7e-edd5-45c7-bc53-49e1f62f5987",
   "metadata": {},
   "outputs": [],
   "source": [
    "# Number Types:\n",
    "# Int (12)\n",
    "# Float (12.75)"
   ]
  },
  {
   "cell_type": "code",
   "execution_count": 302,
   "id": "a3d5bfe2-dfc4-45b4-98fb-925754288022",
   "metadata": {},
   "outputs": [],
   "source": [
    "a = 3\n",
    "b = 8"
   ]
  },
  {
   "cell_type": "code",
   "execution_count": 303,
   "id": "78ba5695-3016-40b9-93dc-bbe34535c05f",
   "metadata": {},
   "outputs": [
    {
     "data": {
      "text/plain": [
       "24"
      ]
     },
     "execution_count": 303,
     "metadata": {},
     "output_type": "execute_result"
    }
   ],
   "source": [
    "a*b"
   ]
  },
  {
   "cell_type": "code",
   "execution_count": 304,
   "id": "f4f9c9bd-c2e5-40d4-a467-afbeac2dfe22",
   "metadata": {},
   "outputs": [
    {
     "data": {
      "text/plain": [
       "11"
      ]
     },
     "execution_count": 304,
     "metadata": {},
     "output_type": "execute_result"
    }
   ],
   "source": [
    "a + b"
   ]
  },
  {
   "cell_type": "code",
   "execution_count": 305,
   "id": "c634356d-7d16-4327-8770-f34b64c797e7",
   "metadata": {},
   "outputs": [
    {
     "data": {
      "text/plain": [
       "0.375"
      ]
     },
     "execution_count": 305,
     "metadata": {},
     "output_type": "execute_result"
    }
   ],
   "source": [
    "a / b"
   ]
  },
  {
   "cell_type": "code",
   "execution_count": 306,
   "id": "c8ba7cb7-dc62-412e-a0be-591384525c6d",
   "metadata": {},
   "outputs": [
    {
     "data": {
      "text/plain": [
       "-5"
      ]
     },
     "execution_count": 306,
     "metadata": {},
     "output_type": "execute_result"
    }
   ],
   "source": [
    "a - b"
   ]
  },
  {
   "cell_type": "code",
   "execution_count": 307,
   "id": "02349b4b-bc37-4319-809e-fe9963456008",
   "metadata": {},
   "outputs": [
    {
     "data": {
      "text/plain": [
       "55"
      ]
     },
     "execution_count": 307,
     "metadata": {},
     "output_type": "execute_result"
    }
   ],
   "source": [
    "5 * (a+b)"
   ]
  },
  {
   "cell_type": "code",
   "execution_count": 308,
   "id": "d01c83de-423e-4bb5-89c0-563e191f77e6",
   "metadata": {},
   "outputs": [],
   "source": [
    "# Logical expressions"
   ]
  },
  {
   "cell_type": "code",
   "execution_count": 309,
   "id": "4f16fe1d-83ec-4db7-b37b-3fd0001dac18",
   "metadata": {},
   "outputs": [
    {
     "data": {
      "text/plain": [
       "False"
      ]
     },
     "execution_count": 309,
     "metadata": {},
     "output_type": "execute_result"
    }
   ],
   "source": [
    "# Check if a is equal to b. Be sure to use == to check for equality.\n",
    "a == b"
   ]
  },
  {
   "cell_type": "code",
   "execution_count": 310,
   "id": "81672c20-1f51-4ef5-97e4-8bf1a8879196",
   "metadata": {},
   "outputs": [
    {
     "data": {
      "text/plain": [
       "True"
      ]
     },
     "execution_count": 310,
     "metadata": {},
     "output_type": "execute_result"
    }
   ],
   "source": [
    "a != b"
   ]
  },
  {
   "cell_type": "code",
   "execution_count": 311,
   "id": "bef1b11f-9d32-4d2c-b6a5-0f1eaf4d47de",
   "metadata": {},
   "outputs": [
    {
     "data": {
      "text/plain": [
       "True"
      ]
     },
     "execution_count": 311,
     "metadata": {},
     "output_type": "execute_result"
    }
   ],
   "source": [
    "a < b"
   ]
  },
  {
   "cell_type": "code",
   "execution_count": 312,
   "id": "0ab42534-2557-4cb4-85d2-7c566ce021f8",
   "metadata": {},
   "outputs": [
    {
     "data": {
      "text/plain": [
       "False"
      ]
     },
     "execution_count": 312,
     "metadata": {},
     "output_type": "execute_result"
    }
   ],
   "source": [
    "a > b"
   ]
  },
  {
   "cell_type": "code",
   "execution_count": 313,
   "id": "1d01074d-5101-4ec0-bbf6-502e5f4f5e42",
   "metadata": {},
   "outputs": [
    {
     "data": {
      "text/plain": [
       "True"
      ]
     },
     "execution_count": 313,
     "metadata": {},
     "output_type": "execute_result"
    }
   ],
   "source": [
    "a <= b"
   ]
  },
  {
   "cell_type": "code",
   "execution_count": 314,
   "id": "d6a1fb15-cc63-474d-933d-b260f49e1fe9",
   "metadata": {},
   "outputs": [
    {
     "data": {
      "text/plain": [
       "False"
      ]
     },
     "execution_count": 314,
     "metadata": {},
     "output_type": "execute_result"
    }
   ],
   "source": [
    "a >= b"
   ]
  },
  {
   "cell_type": "code",
   "execution_count": 10,
   "id": "301f16b0-58db-4df9-a168-af9fac08f3cb",
   "metadata": {},
   "outputs": [
    {
     "data": {
      "text/plain": [
       "True"
      ]
     },
     "execution_count": 10,
     "metadata": {},
     "output_type": "execute_result"
    }
   ],
   "source": [
    "# Use the modulous operator to check if a number is even. If the number is odd it should not have a remainder.\n",
    "10 % 2 == 0"
   ]
  },
  {
   "cell_type": "code",
   "execution_count": 9,
   "id": "8f883adb-2040-453f-ac52-a778158dc3b3",
   "metadata": {},
   "outputs": [
    {
     "data": {
      "text/plain": [
       "0"
      ]
     },
     "execution_count": 9,
     "metadata": {},
     "output_type": "execute_result"
    }
   ],
   "source": [
    "7 % 2 == "
   ]
  },
  {
   "cell_type": "code",
   "execution_count": null,
   "id": "f32e1d05-b137-42ba-a5b7-835a61af22f2",
   "metadata": {},
   "outputs": [],
   "source": []
  }
 ],
 "metadata": {
  "kernelspec": {
   "display_name": "Python 3 (ipykernel)",
   "language": "python",
   "name": "python3"
  },
  "language_info": {
   "codemirror_mode": {
    "name": "ipython",
    "version": 3
   },
   "file_extension": ".py",
   "mimetype": "text/x-python",
   "name": "python",
   "nbconvert_exporter": "python",
   "pygments_lexer": "ipython3",
   "version": "3.10.7"
  }
 },
 "nbformat": 4,
 "nbformat_minor": 5
}
